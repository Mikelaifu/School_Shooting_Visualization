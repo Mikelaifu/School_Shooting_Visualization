{
 "cells": [
  {
   "cell_type": "code",
   "execution_count": 1,
   "metadata": {},
   "outputs": [
    {
     "data": {
      "text/html": [
       "<div>\n",
       "<style scoped>\n",
       "    .dataframe tbody tr th:only-of-type {\n",
       "        vertical-align: middle;\n",
       "    }\n",
       "\n",
       "    .dataframe tbody tr th {\n",
       "        vertical-align: top;\n",
       "    }\n",
       "\n",
       "    .dataframe thead th {\n",
       "        text-align: right;\n",
       "    }\n",
       "</style>\n",
       "<table border=\"1\" class=\"dataframe\">\n",
       "  <thead>\n",
       "    <tr style=\"text-align: right;\">\n",
       "      <th></th>\n",
       "      <th>Date</th>\n",
       "      <th>Death</th>\n",
       "      <th>Injuries</th>\n",
       "      <th>Location</th>\n",
       "      <th>State</th>\n",
       "      <th>School_Name</th>\n",
       "      <th>School_Type</th>\n",
       "      <th>Latitude</th>\n",
       "      <th>Longitude</th>\n",
       "    </tr>\n",
       "  </thead>\n",
       "  <tbody>\n",
       "    <tr>\n",
       "      <th>332</th>\n",
       "      <td>2013-03-21</td>\n",
       "      <td>0</td>\n",
       "      <td>0</td>\n",
       "      <td>Southgate</td>\n",
       "      <td>MI</td>\n",
       "      <td>Davidson Middle School</td>\n",
       "      <td>Middle School</td>\n",
       "      <td>42.206116</td>\n",
       "      <td>-83.204609</td>\n",
       "    </tr>\n",
       "    <tr>\n",
       "      <th>333</th>\n",
       "      <td>2013-02-27</td>\n",
       "      <td>0</td>\n",
       "      <td>0</td>\n",
       "      <td>Atlanta</td>\n",
       "      <td>GA</td>\n",
       "      <td>Henry W. Grady High School</td>\n",
       "      <td>High School</td>\n",
       "      <td>33.749099</td>\n",
       "      <td>-84.390185</td>\n",
       "    </tr>\n",
       "    <tr>\n",
       "      <th>334</th>\n",
       "      <td>2013-02-13</td>\n",
       "      <td>0</td>\n",
       "      <td>0</td>\n",
       "      <td>San Leandro</td>\n",
       "      <td>CA</td>\n",
       "      <td>Hillside Elementary School</td>\n",
       "      <td>Elementary School</td>\n",
       "      <td>37.724930</td>\n",
       "      <td>-122.156077</td>\n",
       "    </tr>\n",
       "    <tr>\n",
       "      <th>335</th>\n",
       "      <td>2013-02-01</td>\n",
       "      <td>0</td>\n",
       "      <td>0</td>\n",
       "      <td>Altanta</td>\n",
       "      <td>GA</td>\n",
       "      <td>Morehouse College</td>\n",
       "      <td>College or University</td>\n",
       "      <td>33.749000</td>\n",
       "      <td>-84.388000</td>\n",
       "    </tr>\n",
       "    <tr>\n",
       "      <th>336</th>\n",
       "      <td>2013-01-08</td>\n",
       "      <td>0</td>\n",
       "      <td>0</td>\n",
       "      <td>Fort Myers</td>\n",
       "      <td>FL</td>\n",
       "      <td>Apostolic Revival Center Christian School</td>\n",
       "      <td>Elementary School</td>\n",
       "      <td>26.640628</td>\n",
       "      <td>-81.872308</td>\n",
       "    </tr>\n",
       "  </tbody>\n",
       "</table>\n",
       "</div>"
      ],
      "text/plain": [
       "          Date  Death  Injuries     Location State  \\\n",
       "332 2013-03-21      0         0    Southgate    MI   \n",
       "333 2013-02-27      0         0      Atlanta    GA   \n",
       "334 2013-02-13      0         0  San Leandro    CA   \n",
       "335 2013-02-01      0         0      Altanta    GA   \n",
       "336 2013-01-08      0         0   Fort Myers    FL   \n",
       "\n",
       "                                   School_Name            School_Type  \\\n",
       "332                     Davidson Middle School          Middle School   \n",
       "333                 Henry W. Grady High School            High School   \n",
       "334                 Hillside Elementary School      Elementary School   \n",
       "335                          Morehouse College  College or University   \n",
       "336  Apostolic Revival Center Christian School      Elementary School   \n",
       "\n",
       "      Latitude   Longitude  \n",
       "332  42.206116  -83.204609  \n",
       "333  33.749099  -84.390185  \n",
       "334  37.724930 -122.156077  \n",
       "335  33.749000  -84.388000  \n",
       "336  26.640628  -81.872308  "
      ]
     },
     "execution_count": 1,
     "metadata": {},
     "output_type": "execute_result"
    }
   ],
   "source": [
    "import pandas as pd\n",
    "df = pd.read_csv(\"school_shooting.csv\")\n",
    "df['Date'] = pd.to_datetime(df['Date'])\n",
    "\n",
    "df.tail()\n"
   ]
  },
  {
   "cell_type": "code",
   "execution_count": 2,
   "metadata": {},
   "outputs": [],
   "source": [
    "import sqlalchemy\n",
    "from sqlalchemy import create_engine, MetaData\n",
    "from sqlalchemy.ext.declarative import declarative_base\n",
    "from sqlalchemy import Column, Integer, String, Numeric, Text, Float\n",
    "Base = declarative_base()\n",
    "\n",
    "engine = create_engine(\"sqlite:///school.sqlite\")\n",
    "conn = engine.connect()"
   ]
  },
  {
   "cell_type": "code",
   "execution_count": 3,
   "metadata": {},
   "outputs": [],
   "source": [
    "class school_shoot(Base):\n",
    "    __tablename__ = \"School_shooting\"\n",
    "    id = Column(Integer, primary_key=True)\n",
    "    Date = Column(String) # for late using the date column, we need to use pandas to convert it back to datetime format for analysis \n",
    "    Death = Column(Integer)\n",
    "    Injuries = Column(Integer)\n",
    "    Location= Column(String)\n",
    "    State = Column(String)\n",
    "    School_Name = Column(String)\n",
    "    School_Type = Column(String)\n",
    "    Latitude= Column(Float)\n",
    "    Longitude = Column(Float)\n",
    "    \n",
    "    def __repr__(self):\n",
    "        return f\"id={self.id}, Date  = {self.Date}, Death ={self.Death}, Injuries = {self.Injuries}, State = {self.State},Location = {self.Location}, School_Name = {self.School_Name}, School_Type = {self.School_Type}, Latitude = {self.Latitude}, Longitude = {self.Longitude} \""
   ]
  },
  {
   "cell_type": "code",
   "execution_count": 4,
   "metadata": {},
   "outputs": [],
   "source": [
    "Base.metadata.create_all(engine)"
   ]
  },
  {
   "cell_type": "code",
   "execution_count": 5,
   "metadata": {},
   "outputs": [],
   "source": [
    "df = pd.read_csv(\"school_shooting.csv\")"
   ]
  },
  {
   "cell_type": "code",
   "execution_count": 6,
   "metadata": {},
   "outputs": [
    {
     "data": {
      "text/plain": [
       "<sqlalchemy.engine.result.ResultProxy at 0x1120cbef0>"
      ]
     },
     "execution_count": 6,
     "metadata": {},
     "output_type": "execute_result"
    }
   ],
   "source": [
    "school_dict = df.to_dict(orient = 'records')\n",
    "metadata = MetaData(bind=engine)\n",
    "metadata.reflect()\n",
    "table1 = sqlalchemy.Table('School_shooting', metadata, autoload=True)\n",
    "conn.execute(table1.insert(), school_dict)\n"
   ]
  },
  {
   "cell_type": "code",
   "execution_count": 7,
   "metadata": {},
   "outputs": [
    {
     "data": {
      "text/plain": [
       "[(1, '1/7/13', 1, 0, 'Fort Myers', ' FL', 'Apostolic Revival Center Christian School', 'Preschool', 26.640628000000003, -81.87230840000001),\n",
       " (2, '1/10/13', 0, 2, 'Taft', ' CA', 'Taft Union High School', 'High School', 50.9954169, -118.6467639),\n",
       " (3, '1/12/13', 0, 1, 'Detroit', ' MI', 'Osborn High School ', 'High School', 42.3486635, -83.0567375),\n",
       " (4, '1/15/13', 0, 2, 'St. Louis', ' MO', 'Stevens Institute of Business & Arts', 'College or University', 38.62727329999999, -90.19788890000001),\n",
       " (5, '1/15/13', 3, 0, 'Hazard', ' KY', 'Hazard Community and Technical College', 'College or University', 37.24954, -83.19322840000001),\n",
       " (6, '1/16/13', 1, 0, 'Chicago', ' IL', 'Chicago State University', 'College or University', 41.8755546, -87.6244212),\n",
       " (7, '1/22/13', 0, 3, 'Houston', ' TX', 'Lone Star College North Harris Campus', 'College or University', 29.7589382, -95.36769740000001),\n",
       " (8, '1/31/13', 0, 0, 'Phoenix', 'AZ', 'Cesar Chavez High School', 'High School', 33.448586600000006, -112.0773456),\n",
       " (9, '1/31/13', 0, 2, 'Atlanta', ' GA', 'Price Middle School', 'Middle School', 33.749098700000005, -84.39018490000001),\n",
       " (10, '3/18/13', 1, 0, 'Orlando', ' FL', 'University of Central Florida', 'College or University', 28.5423999, -81.37943680000001),\n",
       " (11, '4/12/13', 0, 2, 'Christiansburg', ' VA', 'New River Community College', 'College or University', 37.1298517, -80.40893890000001),\n",
       " (12, '4/16/13', 0, 3, 'Tuscaloosa', ' AL', 'Stillman College', 'College or University', 33.2668398, -87.4862182),\n",
       " (13, '4/18/13', 1, 0, 'Cambridge', 'MA', 'MIT', 'College or University', 42.3750997, -71.1056157),\n",
       " (14, '5/14/13', 0, 0, 'Birmingham', 'AL', 'Ossie Ware Mitchell Middle School', 'Middle School', 33.5206824, -86.80243259999999),\n",
       " (15, '6/7/13', 6, 4, 'Santa Monica', ' CA', 'Santa Monica College', 'College or University', 46.724362, -75.559685),\n",
       " (16, '8/20/13', 0, 0, 'Decatur', ' GA', 'Ronald E. McNair Discovery Learning Academy', 'Elementary School', 33.7737582, -84.29606899999999),\n",
       " (17, '8/23/13', 1, 2, 'Sardis', ' MS', 'North Panola High School', 'High School', 31.8009956, -90.32425699999999),\n",
       " (18, '8/30/13', 0, 1, 'Winston-Salem', ' NC', 'Carver High School', 'High School', 36.0998131, -80.2440518),\n",
       " (19, '10/4/13', 0, 2, 'Pine Hills', ' FL', 'Agape Christian Academy', 'Elementary School', 28.5825505, -81.4618323),\n",
       " (20, '10/21/13', 2, 2, 'Sparks', ' NV', 'Sparks Middle School', 'Middle School', 39.5348431, -119.7527683),\n",
       " (21, '11/2/13', 0, 1, 'Greensboro', ' NC', 'North Carolina A&T State University', 'Preschool', 36.0726355, -79.79197540000001),\n",
       " (22, '11/3/13', 0, 2, 'Stone Mountain', ' GA', 'Stephenson High School', 'High School', 33.806216600000006, -84.1457505),\n",
       " (23, '11/13/13', 0, 3, 'Pittsburgh', ' PA', 'Brashear High School', 'High School', 40.4416941, -79.99008609999998),\n",
       " (24, '12/4/13', 0, 1, 'Winter Garden', ' FL', 'West Orange High School', 'High School', 28.5502685, -81.59259746),\n",
       " (25, '12/13/13', 2, 0, 'Centennial', ' CO', 'Arapahoe High School', 'High School', 39.5680644, -104.97783079999999),\n",
       " (26, '12/19/13', 0, 1, 'Fresno', ' CA', 'Edison High School', 'High School', 36.7295295, -119.7088613),\n",
       " (27, '1/9/14', 0, 1, 'Jackson', ' TN', 'Liberty Technology Magnet High School', 'High School', 35.6144446, -88.8177418),\n",
       " (28, '1/13/14', 0, 1, 'New Haven', ' CT', 'Hillhouse High School', 'High School', 41.3082138, -72.92505179999999),\n",
       " (29, '1/14/14', 0, 3, 'Roswell', ' NM', 'Berrendo Middle School', 'Middle School', 33.394328200000004, -104.52295179999999),\n",
       " (30, '1/17/14', 0, 2, 'Philadelphia', ' PA', 'Delaware Valley Charter High School', 'High School', 39.9524152, -75.16357550000001),\n",
       " (31, '1/20/14', 0, 1, 'Chester', ' PA', 'Widener University', 'College or University', 39.849557, -75.3557458),\n",
       " (32, '1/21/14', 1, 0, 'West Lafayette', ' IN', 'Purdue University', 'College or University', 40.4258686, -86.9080655),\n",
       " (33, '1/24/14', 1, 0, 'Orangeburg', ' SC', 'South Carolina State University', 'College or University', 33.4918203, -80.8556476),\n",
       " (34, '1/25/14', 1, 0, 'Los Angeles', ' CA', 'Angeles Valley College', 'College or University', 34.054935, -118.244476),\n",
       " (35, '1/27/14', 0, 1, 'Carbondale', ' IL', 'Rebound High School', 'High School', 37.7274692, -89.216655),\n",
       " (36, '1/28/14', 0, 1, 'Nashville', ' TN', 'Tennessee State University', 'College or University', 36.1622296, -86.7743531),\n",
       " (37, '1/28/14', 0, 1, 'Grambling', ' LA', 'Grambling State University', 'College or University', 32.527650300000005, -92.7140403),\n",
       " (38, '1/30/14', 0, 1, 'Palm Bay', ' FL', 'Eastern Florida State College', 'College or University', 28.0331886, -80.64296949999999),\n",
       " (39, '1/31/14', 0, 1, 'Phoenix', ' AZ', 'Cesar Chavez High School', 'High School', 33.448586600000006, -112.0773456),\n",
       " (40, '1/31/14', 0, 1, 'Des Moines', ' IA', 'North High School', 'High School', 41.5910641, -93.60371490000001),\n",
       " (41, '2/10/14', 0, 1, 'Salisbury', ' NC', 'Salisbury High School', 'High School', -28.7464779, 24.776729),\n",
       " (42, '2/10/14', 0, 0, 'Lyndhurst', ' OH', 'Charles F. Brush High School', 'High School', 41.520052, -81.488732),\n",
       " (43, '2/12/14', 0, 1, 'Los Angeles', ' CA', 'University of Southern California', 'College or University', 34.054935, -118.244476),\n",
       " (44, '2/22/14', 0, 1, 'Augusta', ' GA', 'Georgia Regents University', 'College or University', 33.470971399999996, -81.9748429),\n",
       " (45, '3/12/14', 1, 0, 'Miami', ' FL', 'The Academy of Knowledge Preschool', 'Preschool', 25.7742658, -80.1936589),\n",
       " (46, '4/9/14', 0, 0, 'Greenville', ' NC', 'D. H. Conley High School', 'High School', 35.612660999999996, -77.3663538),\n",
       " (47, '4/11/14', 1, 0, 'Detroit', ' MI', 'East English Village Preparatory Academy', 'High School', 42.3486635, -83.0567375),\n",
       " (48, '5/4/14', 0, 1, 'Augusta', ' GA', 'Paine College', 'College or University', 33.470971399999996, -81.9748429),\n",
       " (49, '5/8/14', 0, 1, 'Georgetown', ' KY', 'Georgetown College', 'College or University', 19.2953549, -81.3807776),\n",
       " (50, '5/8/14', 0, 1, 'Lawrenceville', ' GA', 'Georgia Gwinnett College', 'College or University', 33.9562149, -83.9879625),\n",
       " (51, '5/14/14', 0, 1, 'Richmond', ' CA', 'John F. Kennedy High School ', 'High School', 49.1632727, -123.13766869999999),\n",
       " (52, '6/5/14', 1, 3, 'Seattle', ' WA', 'Seattle Pacific University', 'College or University', 47.6038321, -122.3300624),\n",
       " (53, '6/10/14', 2, 1, 'Troutdale', ' OR', 'Reynolds High School', 'High School', 45.5317928, -122.391155),\n",
       " (54, '9/9/14', 0, 1, 'Miami', 'FL', None, None, 25.7742658, -80.1936589),\n",
       " (55, '9/11/14', 0, 1, 'Taylorsville', ' UT', 'Westbrook Elementary School', 'Elementary School', 40.667751700000004, -111.9386311),\n",
       " (56, '9/27/14', 0, 1, 'Terre Haute', ' IN', 'Indiana State University', 'College or University', 39.466702500000004, -87.4139119),\n",
       " (57, '9/30/14', 0, 1, 'Albermarle', ' NC', 'Abermarle High school', 'High School', 35.60846655, -82.54350500000001),\n",
       " (58, '9/30/14', 0, 1, 'Louisville', ' KY', 'Fern Creek High School', 'High School', 38.254237599999996, -85.759407),\n",
       " (59, '10/3/14', 1, 0, 'Fairburn', ' GA', 'Langston Hughes High School', 'High School', 33.5670562, -84.5810418),\n",
       " (60, '10/24/14', 5, 1, 'Marysville', ' WA', 'Marysville Pilchuck High School', 'High School', 48.0517429, -122.17682090000001),\n",
       " (61, '11/20/14', 1, 3, 'Tallahasse', ' FL', 'Florida State University', 'College or University', 29.9812352, -81.9841945),\n",
       " (62, '11/20/14', 1, 1, 'Miami', ' FL', 'Miami Carol City High School', 'High School', 25.7742658, -80.1936589),\n",
       " (63, '12/5/14', 1, 0, 'Claremore', ' OK', 'Rogers State University', 'College or University', 36.312589700000004, -95.6158701),\n",
       " (64, '12/12/14', 0, 4, 'Portland', ' OR', 'Rosemary Anderson High School', 'High School', 45.5202471, -122.6741949),\n",
       " (65, '1/15/15', 0, 3, 'Milwaukee', ' WI', 'Wisconson Lutheran High School', 'High School', 43.0349931, -87.92249699999999),\n",
       " (66, '1/16/15', 0, 2, 'Ocala', ' FL', 'Vanguard High School', 'High School', 29.187198600000002, -82.14009229999999),\n",
       " (67, '2/4/15', 0, 2, 'Frederick', ' MD', 'Frederick High School', 'High School', 39.4142186, -77.4109269),\n",
       " (68, '2/14/15', 1, 0, 'Merced', ' CA', None, 'High School', 37.3029568, -120.48432690000001),\n",
       " (69, '2/23/15', 0, 3, 'Daytona Beach', ' FL', 'Bethune-Cookman University', 'College or University', 29.2108147, -81.02283309999999),\n",
       " (70, '3/30/15', 0, 1, 'University City', ' MI', None, 'Elementary School', 38.6558849, -90.3092813),\n",
       " (71, '4/13/15', 1, 0, 'Goldsboro', ' NC', 'Wayne Community College', 'College or University', 35.3848841, -77.9927651),\n",
       " (72, '4/16/15', 0, 1, 'Paradis', ' LA', None, 'Middle School', 50.2472968, 3.9541879),\n",
       " (73, '4/27/15', 0, 0, 'Lacey', ' WA', 'North Thurston High School', 'High School', 47.0263876, -122.8072257),\n",
       " (74, '5/12/15', 0, 2, 'Tempe', ' AZ', 'Corona del Sol High School', 'High School', 33.4144139, -111.90944740000002),\n",
       " (75, '5/24/15', 0, 7, 'Flint', ' MI', 'Southwestern Classical Academy', 'High School', 43.0171773, -83.7236024),\n",
       " (76, '8/27/15', 1, 0, 'Savannah', ' GA', 'Savannah State University', 'College or University', 32.0835407, -81.0998342),\n",
       " (77, '9/3/15', 1, 2, 'Sacramento', ' CA', 'Sacramento City College', 'College or University', 38.5815719, -121.49439960000001),\n",
       " (78, '9/14/15', 2, 0, 'Cleveland', ' MS', 'Delta State University', 'College or University', 33.7440023, -90.7248187),\n",
       " (79, '9/30/15', 0, 1, 'Harrisburg', ' SD', 'Harrisburg High School', 'High School', 43.431366, -96.69726999999999),\n",
       " (80, '10/1/15', 10, 9, 'Roseburg', ' OR', 'Umpqua Community College', 'College or University', 43.216505, -123.3417381),\n",
       " (81, '10/9/15', 1, 3, 'Flagstaff', ' AZ', 'Northern Arizona University - Flagstaff', 'College or University', 35.199458, -111.6514259),\n",
       " (82, '10/9/15', 1, 1, 'Houston', ' TX', 'Texas Southern University', 'College or University', 29.7589382, -95.36769740000001),\n",
       " (83, '10/22/15', 1, 3, 'Nashville', ' TN', 'Tennessee State University', 'College or University', 36.1622296, -86.7743531),\n",
       " (84, '11/1/15', 1, 1, 'Winston-Salem', ' NC', 'Winston-Salem State University', 'College or University', 36.0998131, -80.2440518),\n",
       " (85, '11/20/15', 1, 0, 'North Las Vegas', ' NV', None, 'High School', 36.2008371, -115.11209579999999),\n",
       " (86, '1/22/16', 0, 1, 'Indianapolis', ' IN', 'Lawrence Central High School', 'High School', 39.7683331, -86.1583502),\n",
       " (87, '1/29/16', 0, 0, 'Philadelphia', ' PA', 'Benjamin Franklin High School', 'High School', 39.9524152, -75.16357550000001),\n",
       " (88, '2/9/16', 0, 4, 'Muskegon Heights', ' MI', 'Muskegon Heights High School', 'High School', 43.201126, -86.238946),\n",
       " (89, '2/12/16', 2, 0, 'Glendale', ' AZ', 'Independence High School', 'High School', 33.558997, -112.4046831),\n",
       " (90, '2/29/16', 0, 4, 'Middletown', ' OH', 'Madison High School', 'K-12 School', 39.5150576, -84.39827629999999),\n",
       " (91, '4/23/16', 1, 2, 'Antigo', ' WI', None, 'High School', 45.140245, -89.152335),\n",
       " (92, '6/1/16', 2, 0, 'Los Angeles', ' CA', 'University of California-Los Angeles', 'College or University', 34.054935, -118.244476),\n",
       " (93, '6/8/16', 1, 3, 'Dorchester', ' MA', None, 'High School', 42.297320500000005, -71.0744952),\n",
       " (94, '9/9/16', 1, 2, 'Alpine', ' TX', 'Auburn University at Montgomery', 'College or University', 30.357380199999998, -103.66093670000001),\n",
       " (95, '9/28/16', 2, 2, 'Townville', ' SC', 'Townville Elementary School', 'Elementary School', 34.56371370000001, -82.8984775),\n",
       " (96, '10/11/16', 0, 1, 'Prichard', ' AL', 'Vigor High School', 'High School', 30.738799800000002, -88.07888890000001),\n",
       " (97, '10/13/16', 0, 2, 'Columbus', ' OH', None, 'College or University', 39.9622601, -83.00070649999999),\n",
       " (98, '10/18/16', 0, 4, 'San Francisco', ' CA', None, 'High School', 45.4423543, -73.4373087),\n",
       " (99, '10/25/16', 0, 1, 'Sandy', ' UT', None, 'Middle School', 40.572851, -111.83344960000001),\n",
       " (100, '12/1/16', 0, 0, 'Bountiful', ' UT', 'Mueller Park Junior High School', 'Middle School', 40.889461100000005, -111.8804817),\n",
       " (101, '1/20/17', 0, 1, 'West Liberty', ' OH', 'West Liberty-Salem High School', 'High School', 40.2522771, -83.75576629999999),\n",
       " (102, '1/20/17', 0, 1, 'West Liberty', ' OH', ' University of Washington ', 'College or University', 40.2522771, -83.75576629999999),\n",
       " (103, '3/21/17', 0, 1, 'King City', ' CA', None, 'High School', 43.929319, -79.53649200000001),\n",
       " (104, '4/10/17', 3, 1, 'San Bernardino', ' CA', 'North Park Elementary School', 'Elementary School', 34.1083449, -117.2897652),\n",
       " (105, '5/4/17', 2, 0, 'Irving', ' TX', None, 'College or University', 32.829518300000004, -96.9442177),\n",
       " (106, '9/13/17', 1, 3, 'Rockford', ' WA', 'Freeman High School', 'High School', 47.4521207, -117.1307471),\n",
       " (107, '9/20/17', 0, 1, 'Mattoon', ' IL', 'Mattoon High School', 'High School', 39.4842821, -88.37732790000001),\n",
       " (108, '11/14/17', 6, 18, 'Corning', ' CA', 'Rancho Tehama Elementary School', 'Elementary School', 49.957280700000005, -102.9716027),\n",
       " (109, '12/7/17', 3, 0, 'Aztec', ' NM', 'Aztec High School', 'High School', 36.8220629, -107.99289920000001),\n",
       " (110, '1/10/18', 0, 0, 'Denison', ' TX', 'Grayson College', 'Community College', 33.7556593, -96.536658),\n",
       " (111, '1/20/18', 1, 0, 'Winston-Salem', ' NC', 'Wake Forest University', 'College or University', 36.0998131, -80.2440518),\n",
       " (112, '1/22/18', 0, 1, 'Italy', ' TX', 'Italy High School', 'High School', 32.1840381, -96.88471940000001),\n",
       " (113, '1/22/18', 0, 1, 'New Orleans', ' LA', 'The NET Charter High School', 'High School', 30.03280175, -89.97500545),\n",
       " (114, '1/23/18', 2, 18, 'Benton', ' KY', 'Marshall County High School', 'High School', 36.8572781, -88.35031500000001),\n",
       " (115, '1/25/18', 0, 0, 'Mobile', ' AL', 'Murphy High School', 'High School', 30.6943566, -88.04305409999999),\n",
       " (116, '1/31/18', 1, 0, 'Philadelphia', ' PA', 'Lincoln High School', 'High School', 39.9524152, -75.16357550000001),\n",
       " (117, '2/1/18', 0, 5, 'Los Angeles', ' CA', 'Salvador B. Castro Middle School', 'Middle School', 34.054935, -118.244476),\n",
       " (118, '2/5/18', 0, 1, 'Oxon Hill', ' MD', 'Oxon Hill High School', 'High School', 38.8035961, -76.98965729999999),\n",
       " (119, '2/14/18', 17, 17, 'Parkland', ' FL', 'Marjory Stoneman Douglas High School', 'High School', 26.3100794, -80.23727),\n",
       " (120, '3/2/18', 2, 0, 'Mount Pleasant', ' MI', 'Central Michigan University', 'College or University', 43.597646000000005, -84.7668495),\n",
       " (121, '3/7/18', 1, 2, 'Birmingham', ' AL', 'Huffman High School', 'High School', 33.5206824, -86.80243259999999),\n",
       " (122, '3/9/18', 0, 1, 'Lexington', ' KY', 'Frederick Douglass High School', 'High School', 38.0464066, -84.4970393),\n",
       " (123, '3/14/18', 2, 1, 'Birmingham', ' AL', None, 'College or University', 33.5206824, -86.80243259999999),\n",
       " (124, '3/20/18', 2, 1, 'Great Mills', ' MD', 'Great Mills High School', 'High School', 38.2367924, -76.4971762),\n",
       " (125, '4/20/18', 0, 1, 'Ocala', ' FL', 'Forest High School', 'High School', 29.187198600000002, -82.14009229999999),\n",
       " (126, '5/11/18', 0, 1, 'Palmdale', ' CA', 'Highland High School', 'High School', 34.5793131, -118.1171108),\n",
       " (127, '5/16/18', 0, 1, 'Dixon', ' IL', 'Dixon High School', 'High School', 41.842224, -89.4815485),\n",
       " (128, '5/18/18', 10, 14, 'Santa Fe', ' CA', None, 'High School', 33.7236409, -116.96397140000002),\n",
       " (129, '5/18/18', 1, 3, 'Jonesboro', ' GA', None, 'High School', 33.521501300000004, -84.3538128),\n",
       " (130, '5/25/18', 0, 2, 'Noblesville', ' IN', None, 'Middle School', 40.0455918, -86.0085955),\n",
       " (131, '5/5/18', 0, 0, 'Fowlerville', ' MI', 'Fowlerville High School', 'High School', 42.6605894, -84.0730142),\n",
       " (132, '5/3/18', 0, 0, 'Waynesboro', ' TN', 'Waynesboro Elementary School', 'Elementary School', 35.319836200000005, -87.76292690000001),\n",
       " (133, '4/22/18', 0, 0, 'Atlanta', ' GA', 'Benjamin Elijah Mays High School', 'High School', 33.749098700000005, -84.39018490000001),\n",
       " (134, '4/19/18', 0, 0, 'Jackson', ' MI', 'Jackson High School', 'High School', 32.29903839999999, -90.1847691),\n",
       " (135, '4/12/18', 0, 0, 'Raytown', ' MO', 'Raytown South Middle School', 'Middle School', 39.0086171, -94.46356379999999),\n",
       " (136, '3/16/18', 0, 0, 'Missoula', ' MT', 'Big Sky High School', 'High School', 46.8700801, -113.99527959999999),\n",
       " (137, '3/13/18', 0, 0, 'Seaside', ' CA', 'Seaside High School', 'High School', 49.27187070000001, -123.1066675),\n",
       " (138, '3/13/18', 0, 0, 'Alexandria', ' VA', 'George Washington Middle School', 'Middle School', 38.8147596, -77.09024765),\n",
       " (139, '3/5/18', 0, 0, 'Cadet', ' MO', 'Kingston High School', 'High School', 37.9875505, -90.6884628),\n",
       " (140, '3/4/18', 0, 0, 'San Marcos', ' TX', 'Texas State University', 'College or University', 29.882643599999998, -97.9405828),\n",
       " (141, '2/28/18', 0, 0, 'Dalton', ' GA', 'Dalton High School', 'High School', 34.769186700000006, -84.9702475),\n",
       " (142, '2/27/18', 0, 0, 'Norfolk', ' VA', 'Norfolk State University', 'College or University', 36.846292299999995, -76.2929252),\n",
       " (143, '2/27/18', 0, 0, 'Itta Bena', ' MS', 'Mississippi Valley State University', 'College or University', 33.49512, -90.3198067),\n",
       " (144, '2/26/18', 0, 0, 'Tacoma', ' WA', 'Oakland High School', 'High School', 47.24957979999999, -122.43987460000001),\n",
       " (145, '2/24/18', 0, 0, 'Savannah', ' GA', 'Savannah State University', 'College or University', 32.0835407, -81.0998342),\n",
       " (146, '2/23/18', 0, 0, 'Hammond', ' LA', 'Southeastern Louisiana University', 'College or University', 41.5833658, -87.500043),\n",
       " (147, '2/20/18', 0, 0, 'Massillon', ' OH', 'Jackson Memorial Middle School', 'Middle School', 40.7967244, -81.5215093),\n",
       " (148, '2/15/18', 0, 0, 'Coconut Creek', ' FL', 'North Broward Preparatory School', 'K-12 School', 26.271462800000002, -80.18180792),\n",
       " (149, '2/8/18', 0, 0, 'New York', ' NY', 'The Metropolitan High School', 'High School', 40.7306458, -73.9866136),\n",
       " (150, '1/26/18', 0, 0, 'Dearborn', ' MI', 'Dearborn High School', 'High School', 42.3222599, -83.1763145),\n",
       " (151, '1/15/18', 0, 0, 'Marshall', ' TX', 'Wiley College', 'College or University', 32.5447756, -94.36610040000001),\n",
       " (152, '1/4/18', 0, 0, 'Seattle', ' WA', 'New Start High School', 'High School', 47.6038321, -122.3300624),\n",
       " (153, '12/31/17', 0, 0, 'Marysville', ' WA', 'Pinewood Elementary School', 'Elementary School', 48.0517429, -122.17682090000001),\n",
       " (154, '12/27/17', 0, 0, 'Lancaster', ' CA', 'Lincoln Elementary School', 'Elementary School', 45.1412642, -74.4984059),\n",
       " (155, '12/19/17', 0, 0, 'Beecher', ' MI', 'Beecher High School', 'High School', 43.089993, -83.70408931),\n",
       " (156, '12/14/17', 0, 0, 'Dallas', ' TX', 'Elisha M. Pease Elementary School', 'Elementary School', 32.7762719, -96.7968559),\n",
       " (157, '12/13/17', 0, 0, 'Monaca', ' PA', 'Penn State Beaver', 'College or University', 40.6872885, -80.2714505),\n",
       " (158, '12/12/17', 0, 0, 'East Stroudsburg', ' PA', 'East Stroudsburg University', 'College or University', 41.003646200000006, -75.17666581),\n",
       " (159, '12/12/17', 0, 0, 'Pasadena', ' TX', 'Sam Rayburn High School', 'High School', 29.6910625, -95.2091006),\n",
       " (160, '12/11/17', 0, 0, 'High Point', ' NC', 'High Point Central High School', 'High School', 35.9556924, -80.0053176),\n",
       " (161, '11/30/17', 0, 0, 'Virginia Beach', ' VA', 'Salem High School', 'High School', 36.8529841, -75.9774183),\n",
       " (162, '11/29/17', 0, 0, 'Lima', ' OH', 'Bath High School', 'High School', 40.742551, -84.1052256),\n",
       " (163, '11/28/17', 0, 0, 'San Jose', ' CA', 'Booksin Elementary School', 'Elementary School', 37.3297085, -121.90315990000002),\n",
       " (164, '11/23/17', 0, 0, 'Denver', ' CO', 'Manual High School', 'High School', 39.739142799999996, -104.984696),\n",
       " (165, '11/17/17', 0, 0, 'Jackson', ' TN', 'North Side High School', 'High School', 35.6144446, -88.8177418),\n",
       " (166, '11/11/17', 0, 0, 'Albany', ' GA', 'Albany State University', 'College or University', 31.578206199999997, -84.15568090000001),\n",
       " (167, '11/10/17', 0, 0, 'Milledgeville', ' GA', 'Lakeview Academy', 'Elementary School', 33.0801429, -83.2320991),\n",
       " (168, '11/10/17', 0, 0, 'Texarkana', ' TX', 'Texarkana College', 'Community College', 33.425125, -94.0476882),\n",
       " (169, '11/9/17', 0, 0, 'Fulton County', ' GA', 'Benjamin Banneker High School', 'High School', 34.0580391, -84.29612829999999),\n",
       " (170, '11/7/17', 0, 0, 'Fort Worth', ' TX', 'Texas Christian University', 'College or University', 32.753177, -97.3327459),\n",
       " (171, '11/3/17', 0, 0, 'Lansing', ' MI', 'Pattengill Middle School', 'Middle School', 42.73377120000001, -84.5553805),\n",
       " (172, '10/31/17', 0, 0, 'Salt Lake City', ' UT', 'University of Utah', 'College or University', 40.7670126, -111.89043079999999),\n",
       " (173, '10/25/17', 0, 0, 'Grambling', ' LA', 'Grambling State University', 'College or University', 32.527650300000005, -92.7140403),\n",
       " (174, '10/19/17', 0, 0, 'Petersburg', ' VA', 'Virginia State University', 'College or University', 37.1924594, -77.36774079999999),\n",
       " (175, '10/14/17', 0, 0, 'Petersburg', ' VA', 'Virginia State University', 'College or University', 37.1924594, -77.36774079999999),\n",
       " (176, '10/11/17', 0, 0, 'Easton', ' MA', 'Stonehill College', 'College or University', 42.0245442, -71.1286594),\n",
       " (177, '10/9/17', 0, 0, 'Lubbock', ' TX', 'Texas Tech University', 'College or University', 33.5778631, -101.85516650000001),\n",
       " (178, '9/30/17', 0, 0, 'Commodore', ' PA', 'Purchase Line Elementary School', 'Elementary School', 40.713120700000005, -78.9433646),\n",
       " (179, '9/29/17', 0, 0, \"Lee's Summit\", ' MO', \"Lee's Summit North High School\", 'High School', 38.9107156, -94.3821295),\n",
       " (180, '9/17/17', 0, 0, 'Akron', ' OH', 'University of Akron', 'College or University', 41.083064, -81.518485),\n",
       " (181, '9/12/17', 0, 0, 'St. Paul', ' MN', 'St. Catherine University', 'College or University', 44.9504037, -93.10150259999999),\n",
       " (182, '9/8/17', 0, 0, 'Columbus', ' OH', 'Columbus Scioto 6-12', 'K-12 School', 39.9622601, -83.00070649999999),\n",
       " (183, '9/8/17', 0, 0, 'North Little Rock', ' AR', 'North Little Rock High School', 'High School', 34.745627500000005, -92.15314458),\n",
       " (184, '9/5/17', 0, 0, 'Nashville', ' TN', 'Tennessee State University', 'College or University', 36.1622296, -86.7743531),\n",
       " (185, '9/1/17', 0, 0, 'College Station', ' TX', 'Texas A&M University', 'College or University', 30.6253463, -96.32715379999999),\n",
       " (186, '8/17/17', 0, 0, 'Lithia Springs', ' GA', 'Lithia Springs High School', 'High School', 33.7939953, -84.66048990000002),\n",
       " (187, '7/23/17', 0, 0, 'Fayetteville', ' AR', 'University of Arkansas', 'College or University', 36.0625843, -94.1574328),\n",
       " (188, '7/21/17', 0, 0, 'Spanish Fork', ' UT', 'Spanish Fork High School', 'High School', 40.114955, -111.654923),\n",
       " (189, '7/19/17', 0, 0, 'Milwaukee', ' WI', 'Hickman Academy Prepatory School', 'K-12 School', 43.0349931, -87.92249699999999),\n",
       " (190, '7/13/17', 0, 0, 'Las Vegas', ' NV', 'University of Nevada', 'College or University', 36.1662859, -115.149225),\n",
       " (191, '6/22/17', 0, 0, 'Florence', ' SC', 'Wilson High School', 'High School', 34.1954, -79.7626),\n",
       " (192, '6/16/17', 0, 0, 'Chicago', ' IL', 'Warren Elementary School', 'Elementary School', 41.8755546, -87.6244212),\n",
       " (193, '6/5/17', 0, 0, 'Fort Wayne', ' IN', 'Ravenscroft Beauty College', 'Community College', 41.0799898, -85.13860150000001),\n",
       " (194, '5/24/17', 0, 0, 'Greensboro', ' AL', 'Greensboro High School', 'High School', 32.7045753, -87.59583959999999),\n",
       " (195, '5/23/17', 0, 0, 'Kirbyville', ' TX', 'Kirbyville High School', 'High School', 30.6604815, -93.8926809),\n",
       " (196, '5/15/17', 0, 0, 'Moss Bluff', ' LA', 'Moss Bluff Elementary School', 'Elementary School', 30.3027042, -93.19070970000001),\n",
       " (197, '5/2/17', 0, 0, 'Irving', ' TX', 'North Lake College', 'Community College', 32.829518300000004, -96.9442177),\n",
       " (198, '4/25/17', 0, 0, 'Orem', ' UT', 'Utah Valley University', 'College or University', 40.2971825, -111.694943),\n",
       " (199, '4/15/17', 0, 0, 'Tulsa', ' OK', 'Booker T. Washington High School', 'High School', 36.1556805, -95.9929113),\n",
       " (200, '4/7/17', 0, 0, 'St. Paul', ' MN', 'University of St. Thomas', 'College or University', 44.9504037, -93.10150259999999),\n",
       " (201, '3/31/17', 0, 0, 'Pensacola', ' FL', 'University of West Florida', 'College or University', 30.421309, -87.2169149),\n",
       " (202, '3/15/17', 0, 0, 'Gaffney', ' SC', 'Limestone College', 'College or University', 35.0717945, -81.64981949999999),\n",
       " (203, '3/13/17', 0, 0, 'Wilberforce', ' OH', 'Central State University', 'College or University', 39.7173, -83.88547926),\n",
       " (204, '2/6/17', 0, 0, 'Scotlandville', ' LA', 'Scotlandville High School', 'High School', 30.5204668, -91.1787186),\n",
       " (205, '1/27/17', 0, 0, 'Aiken', ' SC', 'South Aiken High School', 'High School', 33.5598586, -81.721952),\n",
       " (206, '1/22/17', 0, 0, 'Manhattan', ' KS', 'Kansas State University', 'College or University', 39.1836082, -96.5716694),\n",
       " (207, '1/17/17', 0, 0, 'Eastpoint', ' FL', 'Franklin County Elementary School', 'Elementary School', 29.736601, -84.87851850000001),\n",
       " (208, '1/10/17', 0, 0, 'Alexander City', ' AL', 'Alexander City Middle School', 'Middle School', 32.944012, -85.9538532),\n",
       " (209, '1/5/17', 0, 0, 'Lebanon', ' OH', 'Warren County Career Center', 'Community College', 39.43533729999999, -84.2029922),\n",
       " (210, '12/29/16', 0, 0, 'Salt Lake City', ' UT', 'University of Utah', 'College or University', 40.7670126, -111.89043079999999),\n",
       " (211, '12/9/16', 0, 0, 'St. Louis', ' MO', 'Bayless High School', 'High School', 38.62727329999999, -90.19788890000001),\n",
       " (212, '11/17/16', 0, 0, 'St. Paul', ' MN', 'Crossroads Elementary School', 'Elementary School', 44.9504037, -93.10150259999999),\n",
       " (213, '11/11/16', 0, 0, 'Auburn', ' MI', 'Bay City Western High School', 'High School', 43.603358, -84.069705),\n",
       " (214, '11/3/16', 0, 0, 'Berthoud', ' CO', 'Berthoud High School', 'High School', 40.3083174, -105.08109240000002),\n",
       " (215, '11/2/16', 0, 0, 'Grand Junction', ' CO', 'Grand Junction High School', 'High School', 39.063956, -108.5507317),\n",
       " (216, '10/23/16', 0, 0, 'Huntsville', ' AL', 'Alabama A&M University', 'College or University', 34.729847, -86.5859011),\n",
       " (217, '10/23/16', 0, 0, 'Caledonia', ' MI', 'Davenport University', 'College or University', 42.789119299999996, -85.5163391),\n",
       " (218, '10/6/16', 0, 0, 'Fort Worth', ' TX', 'Dunbar High School', 'High School', 32.753177, -97.3327459),\n",
       " (219, '9/15/16', 0, 0, 'Stephenville', ' TX', 'Tarleton State University', 'College or University', 32.2207307, -98.2026165),\n",
       " (220, '9/8/16', 0, 0, 'Alpine', ' TX', 'Alpine High School', 'High School', 30.357380199999998, -103.66093670000001),\n",
       " (221, '9/2/16', 0, 0, 'Tulsa', ' OK', 'McLain High School', 'High School', 36.1556805, -95.9929113),\n",
       " (222, '8/25/16', 0, 0, 'Booneville', ' MS', 'Northeast Mississippi Community College', 'Community College', 34.65803270000001, -88.56664509999999),\n",
       " (223, '7/25/16', 0, 0, 'Ava', ' MO', 'Ava High School', 'High School', 36.951999, -92.66044570000001),\n",
       " (224, '7/7/16', 0, 0, 'Dallas', ' TX', 'El Centro College', 'College or University', 32.7762719, -96.7968559),\n",
       " (225, '6/10/16', 0, 0, 'Vallejo', ' CA', 'Solano Community College', 'Community College', 38.1040864, -122.25663670000002),\n",
       " (226, '6/7/16', 0, 0, 'Columbia', ' MO', 'University of Missouri', 'College or University', 38.951883, -92.3337366),\n",
       " (227, '5/15/16', 0, 0, 'Augusta', ' KS', 'Augusta High School', 'High School', 37.691376899999995, -96.9707179),\n",
       " (228, '5/13/16', 0, 0, 'Greenville', ' SC', 'Southside High School', 'High School', 34.851354, -82.3984882),\n",
       " (229, '5/11/16', 0, 0, 'Jamaica', ' NY', \"St. John's University\", 'College or University', 40.6914852, -73.8056771),\n",
       " (230, '5/6/16', 0, 0, 'Panama City', ' FL', 'Oscar Patterson Elementary School', 'Elementary School', 30.1600827, -85.6545729),\n",
       " (231, '5/6/16', 0, 0, 'Columbia', ' MO', 'University of Missouri', 'College or University', 38.951883, -92.3337366),\n",
       " (232, '5/6/16', 0, 0, 'Twin Falls', ' ID', 'Robert Stuart Middle School', 'Middle School', 42.5704219, -114.46031709999998),\n",
       " (233, '5/5/16', 0, 0, 'Beltsville', ' MD', 'High Point High School', 'High School', 39.0299081, -76.9149547),\n",
       " (234, '5/2/16', 0, 0, 'Dallas', ' TX', 'Kimball High School', 'High School', 32.7762719, -96.7968559),\n",
       " (235, '4/29/16', 0, 0, 'Charleston', ' WV', 'University of Charleston', 'College or University', 38.3505995, -81.6332812),\n",
       " (236, '4/16/16', 0, 0, 'Tuskegee', ' AL', 'Tuskegee University', 'College or University', 32.4240286, -85.6916195),\n",
       " (237, '4/2/16', 0, 0, 'Manhattan', ' KS', 'Kansas State University', 'College or University', 39.1836082, -96.5716694),\n",
       " (238, '3/27/16', 0, 0, 'Tacoma', ' WA', 'University of Puget Sound', 'College or University', 47.24957979999999, -122.43987460000001),\n",
       " (239, '3/23/16', 0, 0, 'Charlotte', ' NC', 'Johnson C. Smith University', 'College or University', 35.2270869, -80.8431268),\n",
       " (240, '3/21/16', 0, 0, 'Atlanta', ' GA', 'Georgia State University', 'College or University', 33.749098700000005, -84.39018490000001),\n",
       " (241, '3/15/16', 0, 0, 'Birmingham', ' AL', 'Huffman High School', 'High School', 33.5206824, -86.80243259999999),\n",
       " (242, '2/26/16', 0, 0, 'Palestine', ' TX', 'Palestine High School', 'High School', 31.762115299999998, -95.6307891),\n",
       " (243, '2/17/16', 0, 0, 'Homosassa', ' FL', 'Rock Crusher Elementary School', 'Elementary School', 28.7813722, -82.61510009999999),\n",
       " (244, '1/20/16', 0, 0, 'Indianapolis', ' IN', 'Northwest Community High School', 'High School', 39.7683331, -86.1583502),\n",
       " (245, '1/13/16', 0, 0, 'Camden', ' AR', 'Harmony Grove High School', 'High School', 33.584558200000004, -92.83432940000002),\n",
       " (246, '1/12/16', 0, 0, 'Dover', ' DE', 'Central Middle School', 'Middle School', 39.158167999999996, -75.5243682),\n",
       " (247, '12/29/15', 0, 0, 'Greeley', ' CO', None, None, 40.42331420000001, -104.7091322),\n",
       " (248, '12/18/15', 0, 0, 'Jackson', ' TN', 'Lane College', 'College or University', 35.6144446, -88.8177418),\n",
       " (249, '11/29/15', 0, 0, 'Columbus', ' OH', 'Ohio State University', 'College or University', 39.9622601, -83.00070649999999),\n",
       " (250, '11/11/15', 0, 0, 'Sulphur Rock', ' AR', 'Sulphur Rock Magnet School', 'Middle School', 35.751188, -91.5006905),\n",
       " (251, '11/10/15', 0, 0, 'Lecanto', ' FL', 'Lecanto High School', 'High School', 28.851648600000004, -82.48759820000001),\n",
       " (252, '11/5/15', 0, 0, 'Moultrie', ' GA', 'Vereen School', 'Middle School', 31.181152299999997, -83.7878809),\n",
       " (253, '10/25/15', 0, 0, 'Durham', ' NC', 'North Carolina Central University', 'College or University', 35.996655100000005, -78.9018115),\n",
       " (254, '10/24/15', 0, 0, 'San Antonio', ' TX', 'Ed White Middle School', 'Middle School', 29.424600199999997, -98.4951405),\n",
       " (255, '10/15/15', 0, 0, 'Langston', ' OK', 'Langston University', 'College or University', 35.9450505, -97.2553142),\n",
       " (256, '10/15/15', 0, 0, 'San Antonio', ' TX', 'Wagner High School', 'High School', 29.424600199999997, -98.4951405),\n",
       " (257, '10/11/15', 0, 0, 'Tampa', ' FL', 'University of South Florida', 'College or University', 27.947759499999997, -82.458444),\n",
       " (258, '10/6/15', 0, 0, 'Houston', ' TX', 'Texas Southern University', 'College or University', 29.7589382, -95.36769740000001),\n",
       " (259, '10/2/15', 0, 0, 'University City', ' MO', 'University City High School', 'High School', 38.6558849, -90.3092813),\n",
       " (260, '9/28/15', 0, 0, 'Butte', ' MT', 'Montana Tech of the University of Montana', 'College or University', 46.0131505, -112.53650890000002),\n",
       " (261, '9/22/15', 0, 0, 'Statesville', ' NC', 'Central Elementary School', 'Elementary School', 35.78263629999999, -80.8872959),\n",
       " (262, '9/11/15', 0, 0, 'Lafayette', ' LA', 'Northside High School', 'High School', 30.2240897, -92.0198427),\n",
       " (263, '8/26/15', 0, 0, 'Houston', ' TX', 'Texas Southern University', 'College or University', 29.7589382, -95.36769740000001),\n",
       " (264, '8/25/15', 0, 0, 'Augusta', ' GA', 'Hornsby Elementary School', 'Elementary School', 33.470971399999996, -81.9748429),\n",
       " (265, '8/23/15', 0, 0, 'Richmond', ' TX', 'William Velasquez Elementary', 'Elementary School', 29.5821811, -95.7607832),\n",
       " (266, '8/8/15', 0, 0, 'Paradise', ' TX', 'Paradise High School', 'High School', 33.150118, -97.6872521),\n",
       " (267, '8/8/15', 0, 0, 'Wichita', ' KS', 'Wichita State', 'College or University', 37.6922361, -97.3375448),\n",
       " (268, '7/27/15', 0, 0, 'Gainesville', ' FL', 'University of Florida', 'College or University', 29.651939600000002, -82.32499609999999),\n",
       " (269, '7/24/15', 0, 0, 'Converse', ' TX', 'Elolf Elementary School', 'Elementary School', 29.5180081, -98.3161241),\n",
       " (270, '7/5/15', 0, 0, 'Dallas', ' TX', 'Coppell Middle School East', 'Middle School', 32.7762719, -96.7968559),\n",
       " (271, '6/23/15', 0, 0, 'Fort Calhoun', ' NE', 'Fort Calhoun Elementary School', 'Elementary School', 41.4558282, -96.02640240000001),\n",
       " (272, '6/4/15', 0, 0, 'Franklin', ' NC', 'South Macon Elementary School', 'Elementary School', 36.1028596, -78.2787229),\n",
       " (273, '5/27/15', 0, 0, 'Everglades City', ' FL', 'Everglades City School', 'Preschool', 25.860100199999998, -81.38035699999999),\n",
       " (274, '5/20/15', 0, 0, 'Robinson', ' TX', 'Robinson High School', 'High School', 31.467668699999997, -97.1147226),\n",
       " (275, '5/5/15', 0, 0, 'Conyers', ' GA', 'Conyers Middle School', 'Middle School', 33.66761029999999, -84.0176904),\n",
       " (276, '5/4/15', 0, 0, 'Orem', ' UT', 'Utah Valley Univeristy', 'College or University', 40.2971825, -111.694943),\n",
       " (277, '5/4/15', 0, 0, 'Cleveland', ' OH', 'Willow Elementary School', 'Elementary School', 41.5051613, -81.6934446),\n",
       " (278, '4/22/15', 0, 0, 'Las Vegas', ' NV', 'Ruthe Deskin Elementary School', 'Elementary School', 36.1662859, -115.149225),\n",
       " (279, '4/19/15', 0, 0, 'Charlotte', ' NC', 'Johnson C. Smith University', 'College or University', 35.2270869, -80.8431268),\n",
       " (280, '4/18/15', 0, 0, 'Dover', ' DE', 'Delaware State University', 'College or University', 39.158167999999996, -75.5243682),\n",
       " (281, '4/17/15', 0, 0, 'Seguin', ' TX', 'Seguin High School', 'High School', 29.568841100000004, -97.9647269),\n",
       " (282, '4/4/15', 0, 0, 'Everett', ' WA', 'Everett Community College', 'College or University', 47.9673056, -122.20139979999999),\n",
       " (283, '4/2/15', 0, 0, 'Monaca', ' PA', 'Community College of Beaver County', 'College or University', 40.6872885, -80.2714505),\n",
       " (284, '4/2/15', 0, 0, 'Jackson', ' TN', 'Lane College', 'College or University', 35.6144446, -88.8177418),\n",
       " (285, '2/15/15', 0, 0, 'Little Rock', ' AR', 'Lawson Elementary School', 'Elementary School', 34.7464809, -92.2895948),\n",
       " (286, '2/15/15', 0, 0, 'Athens', ' GA', 'University of Georgia', 'College or University', 33.955090500000004, -83.3881868),\n",
       " (287, '2/15/15', 0, 0, 'Merced', ' CA', 'Tenaya Middle School', 'Middle School', 37.3029568, -120.48432690000001),\n",
       " (288, '2/5/15', 0, 0, 'Columbia', ' SC', 'University of South Carolina', 'College or University', 34.000749299999995, -81.03433129999999),\n",
       " (289, '2/2/15', 0, 0, 'Mankato', ' MN', 'Minnesota State University', 'College or University', 44.163466299999996, -93.9993505),\n",
       " (290, '1/26/15', 0, 0, 'Roseville', ' MN', 'Hand and Hand Montessori', 'Preschool', 45.00607670000001, -93.1566107),\n",
       " (291, '1/23/15', 0, 0, 'Hardeeville', ' SC', 'Royal Live Oaks Academy', 'K-12 School', 32.280266499999996, -81.0726108),\n",
       " (292, '12/17/14', 0, 0, 'Waterville', ' ME', 'Benton Elementary School', 'Elementary School', 44.5520105, -69.63171209999999),\n",
       " (293, '12/17/14', 0, 0, 'Pittsburgh', ' PA', 'Sunnyside Elementary School', 'Elementary School', 40.4416941, -79.99008609999998),\n",
       " (294, '11/23/14', 0, 0, 'Annapolis', ' MD', 'St Johns College', 'College or University', 38.9786401, -76.492786),\n",
       " (295, '10/21/14', 0, 0, 'Memphis', ' TN', 'A. Maceo Walker Middle School', 'Middle School', 35.1490215, -90.0516285),\n",
       " (296, '10/18/14', 0, 0, 'Langston', ' OK', 'Langston University', 'College or University', 35.9450505, -97.2553142),\n",
       " (297, '10/13/14', 0, 0, 'Nashville', ' TN', 'Tennessee State University', 'College or University', 36.1622296, -86.7743531),\n",
       " (298, '10/8/14', 0, 0, 'Elizabeth City', ' NC', 'Elizabeth City State University', 'College or University', 36.295683600000004, -76.22476970000001),\n",
       " (299, '9/10/14', 0, 0, 'Lake Mary', ' FL', 'Greenwood Lakes Middle School', 'Elementary School', 28.756618, -81.33888382),\n",
       " (300, '9/5/14', 0, 0, 'Savannah', ' GA', 'Savannah State University', 'College or University', 32.0835407, -81.0998342),\n",
       " (301, '9/2/14', 0, 0, 'Pocatello', ' ID', 'Idaho State University', 'College or University', 42.86886129999999, -112.4401098),\n",
       " (302, '8/14/14', 0, 0, 'Newport News', ' VA', 'Saunders Elementary', 'Elementary School', 36.9786449, -76.4321089),\n",
       " (303, '8/13/14', 0, 0, 'Fredrick', ' MD', 'Heather Ridge High school', 'High School', 39.343, -77.51),\n",
       " (304, '6/27/14', 0, 0, 'Miami', ' FL', 'University of Miami', 'College or University', 25.7742658, -80.1936589),\n",
       " (305, '6/23/14', 0, 0, 'Benton', ' MO', 'Kelly High School', 'High School', 38.2930723, -93.3036786),\n",
       " (306, '5/21/14', 0, 0, 'Milwaukee', ' WI', 'Clarke Street School Playground', 'Elementary School', 43.0349931, -87.92249699999999),\n",
       " (307, '5/3/14', 0, 0, 'Everett', ' WA', 'Horizon Elementary', 'Elementary School', 47.9673056, -122.20139979999999),\n",
       " (308, '5/2/14', 0, 0, 'Milwaukee', ' WI', 'Marquette University', 'College or University', 43.0349931, -87.92249699999999),\n",
       " (309, '4/21/14', 0, 0, 'Griffith', ' IN', 'St. Mary Catholic School', 'Elementary School', 41.534507, -87.42553050000001),\n",
       " (310, '4/21/14', 0, 0, 'Provo', ' UT', 'Provo High School', 'High School', 40.233843799999995, -111.6585337),\n",
       " (311, '4/16/14', 0, 0, 'Council Bluffs', ' IA', 'Iowa Western Community College', 'College or University', 41.2621283, -95.8613912),\n",
       " (312, '4/3/14', 0, 0, 'Kent', ' OH', 'Kent State University', 'College or University', 41.1536674, -81.357886),\n",
       " (313, '3/30/14', 0, 0, 'Savannah', ' GA', 'Savannah State University', 'College or University', 32.0835407, -81.0998342),\n",
       " (314, '3/23/14', 0, 0, 'Newark', ' DE', 'University of Delaware', 'College or University', 39.6852191, -75.75082890000002),\n",
       " (315, '3/8/14', 0, 0, 'Oshkosh', ' WI', 'University of Wisconsin - Oshkosh', 'College or University', 44.0206919, -88.54085740000001),\n",
       " (316, '3/7/14', 0, 0, 'Tallulah', ' LA', 'Madison Parish High School', 'High School', 32.4084765, -91.1867771),\n",
       " (317, '3/2/14', 0, 0, 'Westminster', ' MD', 'McDaniel College', 'College or University', 39.575263899999996, -76.9959277),\n",
       " (318, '2/20/14', 0, 0, 'Raytown', ' MO', 'Raytown Success Academy', 'Preschool', 39.0086171, -94.46356379999999),\n",
       " (319, '2/7/14', 0, 0, 'Bend', ' OR', 'Bend High School', 'High School', 44.058172799999994, -121.31530959999999),\n",
       " (320, '1/15/14', 0, 0, 'Lancaster', ' PA', 'King Elementary School', 'Elementary School', 40.038129999999995, -76.3056686),\n",
       " (321, '11/21/13', 0, 0, 'Rapid City', ' SD', 'South Dakota School of Mines & Technology', 'College or University', 44.081176, -103.22800600000001),\n",
       " (322, '11/1/13', 0, 0, 'Algona', ' IA', 'Algona High/Middle School', 'Middle School', 43.0699663, -94.233019),\n",
       " (323, '10/15/13', 0, 0, 'Austin', ' TX', 'Lanier High School', 'High School', 30.2711286, -97.7436995),\n",
       " (324, '9/28/13', 0, 0, 'Gray', ' ME', 'Gray-New Gloucester High School', 'High School', 43.886016, -70.331726),\n",
       " (325, '9/21/13', 0, 0, 'Savannah', ' GA', 'Savannah State University', 'College or University', 32.0835407, -81.0998342),\n",
       " (326, '8/22/13', 0, 0, 'Memphis', ' TN', 'Westside Elementary School', 'Elementary School', 35.1490215, -90.0516285),\n",
       " (327, '8/15/13', 0, 0, 'Clarksville', ' TN', 'Northwest High School', 'High School', 36.5277607, -87.35887029999999),\n",
       " (328, '6/19/13', 0, 0, 'West Palm Beach', ' FL', 'Alexander W. Dreyfoos School of the Arts', 'High School', 26.7153425, -80.0533746),\n",
       " (329, '5/3/13', 0, 0, 'Hattiesburg', ' MS', 'University of Southern Mississippi', 'College or University', 31.327118900000002, -89.2903392),\n",
       " (330, '4/29/13', 0, 0, 'Cincinnati', ' OH', 'La Salle High School', 'High School', 39.1014537, -84.5124602),\n",
       " (331, '4/15/13', 0, 0, 'Grambling', ' LA', 'Grambling State University', 'College or University', 32.527650300000005, -92.7140403),\n",
       " (332, '4/13/13', 0, 0, 'Elizabeth City', ' NC', 'Elizabeth City State University', 'College or University', 36.295683600000004, -76.22476970000001),\n",
       " (333, '3/21/13', 0, 0, 'Southgate', ' MI', 'Davidson Middle School', 'Middle School', 42.20611635, -83.20460866),\n",
       " (334, '2/27/13', 0, 0, 'Atlanta', ' GA', 'Henry W. Grady High School', 'High School', 33.749098700000005, -84.39018490000001),\n",
       " (335, '2/13/13', 0, 0, 'San Leandro', ' CA', 'Hillside Elementary School', 'Elementary School', 37.7249296, -122.1560768),\n",
       " (336, '2/1/13', 0, 0, 'Altanta', ' GA', 'Morehouse College', 'College or University', 33.749, -84.38799999999999),\n",
       " (337, '1/8/13', 0, 0, 'Fort Myers', ' FL', 'Apostolic Revival Center Christian School', 'Elementary School', 26.640628000000003, -81.87230840000001)]"
      ]
     },
     "execution_count": 7,
     "metadata": {},
     "output_type": "execute_result"
    }
   ],
   "source": [
    "conn.execute(\"select * from School_shooting\").fetchall()"
   ]
  },
  {
   "cell_type": "code",
   "execution_count": 21,
   "metadata": {},
   "outputs": [],
   "source": [
    "import sqlalchemy\n",
    "from sqlalchemy.ext.automap import automap_base\n",
    "from sqlalchemy.orm import Session\n",
    "from sqlalchemy import create_engine, inspect, func"
   ]
  },
  {
   "cell_type": "code",
   "execution_count": 22,
   "metadata": {},
   "outputs": [
    {
     "data": {
      "text/plain": [
       "['School_shooting']"
      ]
     },
     "execution_count": 22,
     "metadata": {},
     "output_type": "execute_result"
    }
   ],
   "source": [
    "engine = create_engine(\"sqlite:///school.sqlite\")\n",
    "Base = automap_base()\n",
    "Base.prepare(engine, reflect= True)\n",
    "Base.classes.keys()"
   ]
  },
  {
   "cell_type": "code",
   "execution_count": 23,
   "metadata": {},
   "outputs": [],
   "source": [
    "session = Session(engine)\n",
    "School_shooting = Base.classes.School_shooting"
   ]
  },
  {
   "cell_type": "code",
   "execution_count": 24,
   "metadata": {},
   "outputs": [
    {
     "data": {
      "text/plain": [
       "<bound method Query.all of <sqlalchemy.orm.query.Query object at 0x11286b160>>"
      ]
     },
     "execution_count": 24,
     "metadata": {},
     "output_type": "execute_result"
    }
   ],
   "source": [
    "session.query(School_shooting.Date).all"
   ]
  },
  {
   "cell_type": "markdown",
   "metadata": {
    "collapsed": true
   },
   "source": [
    "### need Lat, long info for plotting, and hover tick for city name, state name, school name, death, injury"
   ]
  },
  {
   "cell_type": "code",
   "execution_count": 25,
   "metadata": {},
   "outputs": [],
   "source": [
    "import pandas as pd\n",
    "import numpy as np"
   ]
  },
  {
   "cell_type": "code",
   "execution_count": 26,
   "metadata": {
    "scrolled": true
   },
   "outputs": [
    {
     "data": {
      "text/html": [
       "<div>\n",
       "<style scoped>\n",
       "    .dataframe tbody tr th:only-of-type {\n",
       "        vertical-align: middle;\n",
       "    }\n",
       "\n",
       "    .dataframe tbody tr th {\n",
       "        vertical-align: top;\n",
       "    }\n",
       "\n",
       "    .dataframe thead th {\n",
       "        text-align: right;\n",
       "    }\n",
       "</style>\n",
       "<table border=\"1\" class=\"dataframe\">\n",
       "  <thead>\n",
       "    <tr style=\"text-align: right;\">\n",
       "      <th></th>\n",
       "      <th>Date</th>\n",
       "      <th>Location</th>\n",
       "      <th>State</th>\n",
       "      <th>Latitude</th>\n",
       "      <th>Longitude</th>\n",
       "      <th>School_Name</th>\n",
       "      <th>Death</th>\n",
       "      <th>Injuries</th>\n",
       "      <th>School_Type</th>\n",
       "      <th>Year</th>\n",
       "    </tr>\n",
       "  </thead>\n",
       "  <tbody>\n",
       "    <tr>\n",
       "      <th>0</th>\n",
       "      <td>1/7/13</td>\n",
       "      <td>Fort Myers</td>\n",
       "      <td>FL</td>\n",
       "      <td>26.640628</td>\n",
       "      <td>-81.872308</td>\n",
       "      <td>Apostolic Revival Center Christian School</td>\n",
       "      <td>1</td>\n",
       "      <td>0</td>\n",
       "      <td>Preschool</td>\n",
       "      <td>2013</td>\n",
       "    </tr>\n",
       "    <tr>\n",
       "      <th>1</th>\n",
       "      <td>1/10/13</td>\n",
       "      <td>Taft</td>\n",
       "      <td>CA</td>\n",
       "      <td>50.995417</td>\n",
       "      <td>-118.646764</td>\n",
       "      <td>Taft Union High School</td>\n",
       "      <td>0</td>\n",
       "      <td>2</td>\n",
       "      <td>High School</td>\n",
       "      <td>2013</td>\n",
       "    </tr>\n",
       "    <tr>\n",
       "      <th>2</th>\n",
       "      <td>1/12/13</td>\n",
       "      <td>Detroit</td>\n",
       "      <td>MI</td>\n",
       "      <td>42.348664</td>\n",
       "      <td>-83.056737</td>\n",
       "      <td>Osborn High School</td>\n",
       "      <td>0</td>\n",
       "      <td>1</td>\n",
       "      <td>High School</td>\n",
       "      <td>2013</td>\n",
       "    </tr>\n",
       "    <tr>\n",
       "      <th>3</th>\n",
       "      <td>1/15/13</td>\n",
       "      <td>St. Louis</td>\n",
       "      <td>MO</td>\n",
       "      <td>38.627273</td>\n",
       "      <td>-90.197889</td>\n",
       "      <td>Stevens Institute of Business &amp; Arts</td>\n",
       "      <td>0</td>\n",
       "      <td>2</td>\n",
       "      <td>College or University</td>\n",
       "      <td>2013</td>\n",
       "    </tr>\n",
       "    <tr>\n",
       "      <th>4</th>\n",
       "      <td>1/15/13</td>\n",
       "      <td>Hazard</td>\n",
       "      <td>KY</td>\n",
       "      <td>37.249540</td>\n",
       "      <td>-83.193228</td>\n",
       "      <td>Hazard Community and Technical College</td>\n",
       "      <td>3</td>\n",
       "      <td>0</td>\n",
       "      <td>College or University</td>\n",
       "      <td>2013</td>\n",
       "    </tr>\n",
       "  </tbody>\n",
       "</table>\n",
       "</div>"
      ],
      "text/plain": [
       "      Date    Location State   Latitude   Longitude  \\\n",
       "0   1/7/13  Fort Myers    FL  26.640628  -81.872308   \n",
       "1  1/10/13        Taft    CA  50.995417 -118.646764   \n",
       "2  1/12/13     Detroit    MI  42.348664  -83.056737   \n",
       "3  1/15/13   St. Louis    MO  38.627273  -90.197889   \n",
       "4  1/15/13      Hazard    KY  37.249540  -83.193228   \n",
       "\n",
       "                                 School_Name  Death  Injuries  \\\n",
       "0  Apostolic Revival Center Christian School      1         0   \n",
       "1                     Taft Union High School      0         2   \n",
       "2                        Osborn High School       0         1   \n",
       "3       Stevens Institute of Business & Arts      0         2   \n",
       "4     Hazard Community and Technical College      3         0   \n",
       "\n",
       "             School_Type  Year  \n",
       "0              Preschool  2013  \n",
       "1            High School  2013  \n",
       "2            High School  2013  \n",
       "3  College or University  2013  \n",
       "4  College or University  2013  "
      ]
     },
     "execution_count": 26,
     "metadata": {},
     "output_type": "execute_result"
    }
   ],
   "source": [
    "def getData():\n",
    "    result = session.query(School_shooting.Date, School_shooting.Location, School_shooting.State, School_shooting.Latitude, \n",
    "                       School_shooting.Longitude, School_shooting.School_Name, School_shooting.Death,\n",
    "                      School_shooting.Injuries, School_shooting.School_Type).all()\n",
    "    df2 = pd.DataFrame(result)\n",
    "    \n",
    "    df2['Year'] = ['20' + str(j).split(\"/\")[2] for j in df2['Date']] \n",
    "    return df2\n",
    "df2 = getData()\n",
    "df2.head()"
   ]
  },
  {
   "cell_type": "code",
   "execution_count": 14,
   "metadata": {},
   "outputs": [
    {
     "data": {
      "text/plain": [
       "int"
      ]
     },
     "execution_count": 14,
     "metadata": {},
     "output_type": "execute_result"
    }
   ],
   "source": [
    "type(np.asscalar(df2[\"Death\"][0]))"
   ]
  },
  {
   "cell_type": "code",
   "execution_count": 15,
   "metadata": {},
   "outputs": [
    {
     "name": "stderr",
     "output_type": "stream",
     "text": [
      "/Users/apple/anaconda3/lib/python3.6/site-packages/ipykernel/__main__.py:4: SettingWithCopyWarning: \n",
      "A value is trying to be set on a copy of a slice from a DataFrame.\n",
      "Try using .loc[row_indexer,col_indexer] = value instead\n",
      "\n",
      "See the caveats in the documentation: http://pandas.pydata.org/pandas-docs/stable/indexing.html#indexing-view-versus-copy\n"
     ]
    }
   ],
   "source": [
    "df2['Date'] = pd.to_datetime(df2['Date'])\n",
    "mask = df2[\"Year\"] == str(2014)\n",
    "yr = df2[mask]\n",
    "yr['Date'] = [str(j).split(\" \")[0] for j in yr['Date']]\n",
    "df = yr\n",
    "df\n",
    "names = list(df.columns)\n",
    "Outerlst = []\n",
    "for i in range(len(df)):\n",
    "    innerList = []\n",
    "    for j in range(len(names)):\n",
    "        innerList.append(df.iloc[i, names.index(names[j])])\n",
    "        #print(innerList)\n",
    "    Outerlst.append(dict(zip(names, innerList)))\n",
    "for index in range(len(Outerlst)):\n",
    "    \n",
    "    for key, value in Outerlst[index].items():\n",
    "        \n",
    "        if value == str:\n",
    "            next\n",
    "        else:\n",
    "            Outerlst[index][key] = np.asscalar(np.array([value])) \n",
    "            \n"
   ]
  },
  {
   "cell_type": "code",
   "execution_count": 16,
   "metadata": {},
   "outputs": [],
   "source": [
    "def map(year):\n",
    "    \n",
    "    df2['Date'] = pd.to_datetime(df2['Date'])\n",
    "    mask = df2[\"Year\"] == str(year)\n",
    "    yr = df2[mask]\n",
    "    yr['Date'] = [str(j).split(\" \")[0] for j in yr['Date']]\n",
    "    df = yr\n",
    "    df\n",
    "    names = list(df.columns)\n",
    "    Outerlst = []\n",
    "    for i in range(len(df)):\n",
    "        innerList = []\n",
    "        for j in range(len(names)):\n",
    "            innerList.append(df.iloc[i, names.index(names[j])])\n",
    "            #print(innerList)\n",
    "        Outerlst.append(dict(zip(names, innerList)))\n",
    "    for index in range(len(Outerlst)):\n",
    "\n",
    "        for key, value in Outerlst[index].items():\n",
    "\n",
    "            if value == str:\n",
    "                next\n",
    "            else:\n",
    "                Outerlst[index][key] = np.asscalar(np.array([value])) \n",
    "\n",
    "    \n",
    "    return Outerlst"
   ]
  },
  {
   "cell_type": "code",
   "execution_count": 17,
   "metadata": {},
   "outputs": [
    {
     "name": "stderr",
     "output_type": "stream",
     "text": [
      "/Users/apple/anaconda3/lib/python3.6/site-packages/ipykernel/__main__.py:6: SettingWithCopyWarning: \n",
      "A value is trying to be set on a copy of a slice from a DataFrame.\n",
      "Try using .loc[row_indexer,col_indexer] = value instead\n",
      "\n",
      "See the caveats in the documentation: http://pandas.pydata.org/pandas-docs/stable/indexing.html#indexing-view-versus-copy\n"
     ]
    },
    {
     "data": {
      "text/plain": [
       "float"
      ]
     },
     "execution_count": 17,
     "metadata": {},
     "output_type": "execute_result"
    }
   ],
   "source": [
    "type(map(2014)[0]['Latitude'])"
   ]
  },
  {
   "cell_type": "markdown",
   "metadata": {},
   "source": [
    "## get year data"
   ]
  },
  {
   "cell_type": "code",
   "execution_count": 18,
   "metadata": {},
   "outputs": [],
   "source": [
    "def yearOPtion():\n",
    "    df2= getData()\n",
    "    yearList = []\n",
    "    str_date = [str(date) for date in df2['Date'].dt.year]\n",
    "    \n",
    "    yearlst = list(set(str_date))\n",
    "    yearlst.sort()\n",
    "    return jsonify(yearlst)"
   ]
  },
  {
   "cell_type": "code",
   "execution_count": 19,
   "metadata": {},
   "outputs": [],
   "source": [
    "# get states\n",
    "\n",
    "yearList = []\n",
    "for state in df2['State']:\n",
    "    \n",
    "    yearList.append(state)"
   ]
  },
  {
   "cell_type": "code",
   "execution_count": 20,
   "metadata": {},
   "outputs": [
    {
     "ename": "NameError",
     "evalue": "name 'yr13' is not defined",
     "output_type": "error",
     "traceback": [
      "\u001b[0;31m---------------------------------------------------------------------------\u001b[0m",
      "\u001b[0;31mNameError\u001b[0m                                 Traceback (most recent call last)",
      "\u001b[0;32m<ipython-input-20-7bcbf211d166>\u001b[0m in \u001b[0;36m<module>\u001b[0;34m()\u001b[0m\n\u001b[0;32m----> 1\u001b[0;31m \u001b[0;32mfor\u001b[0m \u001b[0mtitle\u001b[0m \u001b[0;32min\u001b[0m \u001b[0mlist\u001b[0m\u001b[0;34m(\u001b[0m\u001b[0myr13\u001b[0m\u001b[0;34m.\u001b[0m\u001b[0mcolumns\u001b[0m\u001b[0;34m)\u001b[0m\u001b[0;34m:\u001b[0m\u001b[0;34m\u001b[0m\u001b[0m\n\u001b[0m\u001b[1;32m      2\u001b[0m     \u001b[0mlittlelist\u001b[0m\u001b[0;34m.\u001b[0m\u001b[0mappend\u001b[0m\u001b[0;34m(\u001b[0m\u001b[0;34m[\u001b[0m\u001b[0mi\u001b[0m \u001b[0;32mfor\u001b[0m \u001b[0mi\u001b[0m \u001b[0;32min\u001b[0m \u001b[0myr13\u001b[0m\u001b[0;34m[\u001b[0m\u001b[0mtitle\u001b[0m\u001b[0;34m]\u001b[0m\u001b[0;34m]\u001b[0m\u001b[0;34m)\u001b[0m\u001b[0;34m\u001b[0m\u001b[0m\n",
      "\u001b[0;31mNameError\u001b[0m: name 'yr13' is not defined"
     ]
    }
   ],
   "source": [
    "for title in list(yr13.columns):\n",
    "    littlelist.append([i for i in yr13[title]])"
   ]
  },
  {
   "cell_type": "markdown",
   "metadata": {
    "collapsed": true
   },
   "source": [
    "### getting bar graph data"
   ]
  },
  {
   "cell_type": "code",
   "execution_count": 27,
   "metadata": {},
   "outputs": [
    {
     "data": {
      "text/html": [
       "<div>\n",
       "<style scoped>\n",
       "    .dataframe tbody tr th:only-of-type {\n",
       "        vertical-align: middle;\n",
       "    }\n",
       "\n",
       "    .dataframe tbody tr th {\n",
       "        vertical-align: top;\n",
       "    }\n",
       "\n",
       "    .dataframe thead th {\n",
       "        text-align: right;\n",
       "    }\n",
       "</style>\n",
       "<table border=\"1\" class=\"dataframe\">\n",
       "  <thead>\n",
       "    <tr style=\"text-align: right;\">\n",
       "      <th></th>\n",
       "      <th>Date</th>\n",
       "      <th>Location</th>\n",
       "      <th>State</th>\n",
       "      <th>Latitude</th>\n",
       "      <th>Longitude</th>\n",
       "      <th>School_Name</th>\n",
       "      <th>Death</th>\n",
       "      <th>Injuries</th>\n",
       "      <th>School_Type</th>\n",
       "      <th>Year</th>\n",
       "    </tr>\n",
       "  </thead>\n",
       "  <tbody>\n",
       "    <tr>\n",
       "      <th>0</th>\n",
       "      <td>2013-01-07</td>\n",
       "      <td>Fort Myers</td>\n",
       "      <td>FL</td>\n",
       "      <td>26.640628</td>\n",
       "      <td>-81.872308</td>\n",
       "      <td>Apostolic Revival Center Christian School</td>\n",
       "      <td>1</td>\n",
       "      <td>0</td>\n",
       "      <td>Preschool</td>\n",
       "      <td>2007 00:00:00</td>\n",
       "    </tr>\n",
       "    <tr>\n",
       "      <th>1</th>\n",
       "      <td>2013-01-10</td>\n",
       "      <td>Taft</td>\n",
       "      <td>CA</td>\n",
       "      <td>50.995417</td>\n",
       "      <td>-118.646764</td>\n",
       "      <td>Taft Union High School</td>\n",
       "      <td>0</td>\n",
       "      <td>2</td>\n",
       "      <td>High School</td>\n",
       "      <td>2010 00:00:00</td>\n",
       "    </tr>\n",
       "    <tr>\n",
       "      <th>2</th>\n",
       "      <td>2013-01-12</td>\n",
       "      <td>Detroit</td>\n",
       "      <td>MI</td>\n",
       "      <td>42.348664</td>\n",
       "      <td>-83.056737</td>\n",
       "      <td>Osborn High School</td>\n",
       "      <td>0</td>\n",
       "      <td>1</td>\n",
       "      <td>High School</td>\n",
       "      <td>2012 00:00:00</td>\n",
       "    </tr>\n",
       "    <tr>\n",
       "      <th>3</th>\n",
       "      <td>2013-01-15</td>\n",
       "      <td>St. Louis</td>\n",
       "      <td>MO</td>\n",
       "      <td>38.627273</td>\n",
       "      <td>-90.197889</td>\n",
       "      <td>Stevens Institute of Business &amp; Arts</td>\n",
       "      <td>0</td>\n",
       "      <td>2</td>\n",
       "      <td>College or University</td>\n",
       "      <td>2015 00:00:00</td>\n",
       "    </tr>\n",
       "    <tr>\n",
       "      <th>4</th>\n",
       "      <td>2013-01-15</td>\n",
       "      <td>Hazard</td>\n",
       "      <td>KY</td>\n",
       "      <td>37.249540</td>\n",
       "      <td>-83.193228</td>\n",
       "      <td>Hazard Community and Technical College</td>\n",
       "      <td>3</td>\n",
       "      <td>0</td>\n",
       "      <td>College or University</td>\n",
       "      <td>2015 00:00:00</td>\n",
       "    </tr>\n",
       "  </tbody>\n",
       "</table>\n",
       "</div>"
      ],
      "text/plain": [
       "        Date    Location State   Latitude   Longitude  \\\n",
       "0 2013-01-07  Fort Myers    FL  26.640628  -81.872308   \n",
       "1 2013-01-10        Taft    CA  50.995417 -118.646764   \n",
       "2 2013-01-12     Detroit    MI  42.348664  -83.056737   \n",
       "3 2013-01-15   St. Louis    MO  38.627273  -90.197889   \n",
       "4 2013-01-15      Hazard    KY  37.249540  -83.193228   \n",
       "\n",
       "                                 School_Name  Death  Injuries  \\\n",
       "0  Apostolic Revival Center Christian School      1         0   \n",
       "1                     Taft Union High School      0         2   \n",
       "2                        Osborn High School       0         1   \n",
       "3       Stevens Institute of Business & Arts      0         2   \n",
       "4     Hazard Community and Technical College      3         0   \n",
       "\n",
       "             School_Type           Year  \n",
       "0              Preschool  2007 00:00:00  \n",
       "1            High School  2010 00:00:00  \n",
       "2            High School  2012 00:00:00  \n",
       "3  College or University  2015 00:00:00  \n",
       "4  College or University  2015 00:00:00  "
      ]
     },
     "execution_count": 27,
     "metadata": {},
     "output_type": "execute_result"
    }
   ],
   "source": [
    "def getData():\n",
    "    result = session.query(School_shooting.Date, School_shooting.Location, School_shooting.State, School_shooting.Latitude, \n",
    "                       School_shooting.Longitude, School_shooting.School_Name, School_shooting.Death,\n",
    "                      School_shooting.Injuries, School_shooting.School_Type).all()\n",
    "    df2 = pd.DataFrame(result)\n",
    "    df2[\"Date\"] = pd.to_datetime(df2[\"Date\"])\n",
    "    df2['Year'] = ['20' + str(j).split(\"-\")[2] for j in df2['Date']] \n",
    "    df2['State'] = [i.strip() for i in df2['State']]\n",
    "    return df2\n",
    "df2 = getData()\n",
    "df2 = df2.dropna()\n",
    "df2.head()"
   ]
  },
  {
   "cell_type": "code",
   "execution_count": null,
   "metadata": {},
   "outputs": [],
   "source": [
    "df2.groupby([\"State\",'School_Type']).agg({\"School_Name\": \"count\"})"
   ]
  },
  {
   "cell_type": "code",
   "execution_count": null,
   "metadata": {},
   "outputs": [],
   "source": [
    "df2['State'].unique()"
   ]
  },
  {
   "cell_type": "code",
   "execution_count": null,
   "metadata": {},
   "outputs": [],
   "source": [
    "mask = df2['State'] == \"PA\"\n",
    "df = df2[mask]\n",
    "df\n",
    "count = df.groupby(['School_Type']).agg({\"School_Name\": \"count\"})\n",
    "count = count.reset_index()\n",
    "df"
   ]
  },
  {
   "cell_type": "code",
   "execution_count": null,
   "metadata": {},
   "outputs": [],
   "source": [
    "df2['School_Type'].unique()"
   ]
  },
  {
   "cell_type": "code",
   "execution_count": null,
   "metadata": {},
   "outputs": [],
   "source": [
    "schoolType =list(df['School_Type'].unique())\n",
    "schoolType"
   ]
  },
  {
   "cell_type": "code",
   "execution_count": null,
   "metadata": {},
   "outputs": [],
   "source": [
    "School_list = []\n",
    "for types in schoolType:\n",
    "    mask = df[\"School_Type\"] == types\n",
    "    School_list.append(list(df[mask]['School_Name']))\n",
    "School_list"
   ]
  },
  {
   "cell_type": "code",
   "execution_count": null,
   "metadata": {},
   "outputs": [],
   "source": [
    "ticks = dict(zip(list(schoolType), School_list))\n",
    "ticks"
   ]
  },
  {
   "cell_type": "code",
   "execution_count": 28,
   "metadata": {},
   "outputs": [],
   "source": [
    "def schoolType(name):\n",
    "    result = session.query(School_shooting.State, School_shooting.School_Name, School_shooting.School_Type).all()\n",
    "    df2 = pd.DataFrame(result)\n",
    "    df2['State'] = [i.strip() for i in df2['State']]\n",
    "    mask = df2['State'] == name\n",
    "    df = df2[mask]\n",
    "    count = df.groupby(['School_Type']).agg({\"School_Name\": \"count\"})\n",
    "    count = count.reset_index()\n",
    "    schoolType =list(df['School_Type'].unique())\n",
    "    School_list = []\n",
    "    for types in schoolType:\n",
    "        mask = df[\"School_Type\"] == types\n",
    "        School_list.append(list(df[mask]['School_Name']))\n",
    "        \n",
    "    ticks = dict(zip(list(schoolType), School_list))\n",
    "    return ticks"
   ]
  },
  {
   "cell_type": "code",
   "execution_count": null,
   "metadata": {},
   "outputs": [],
   "source": [
    "schoolType('MN')\n"
   ]
  },
  {
   "cell_type": "code",
   "execution_count": null,
   "metadata": {},
   "outputs": [],
   "source": [
    "len(dictt['College or University'])"
   ]
  },
  {
   "cell_type": "code",
   "execution_count": null,
   "metadata": {},
   "outputs": [],
   "source": [
    "def State_schoolType():\n",
    "    df2['State'] = [i.strip() for i in df2['State']]    \n",
    "    statelst = list(df2['State'].unique())\n",
    "    statelst.sort()\n",
    "    stateDict = {}\n",
    "    for name in statelst:\n",
    "        stateDict[name] = schoolType(name)\n",
    "        \n",
    "    return stateDict "
   ]
  },
  {
   "cell_type": "code",
   "execution_count": null,
   "metadata": {},
   "outputs": [],
   "source": [
    "State_schoolType()"
   ]
  },
  {
   "cell_type": "code",
   "execution_count": null,
   "metadata": {},
   "outputs": [],
   "source": [
    "stateDict = {}\n",
    "for name in statelst:\n",
    "    stateDict[name] = schoolType(name)"
   ]
  },
  {
   "cell_type": "code",
   "execution_count": null,
   "metadata": {},
   "outputs": [],
   "source": [
    "stateDict"
   ]
  },
  {
   "cell_type": "code",
   "execution_count": null,
   "metadata": {},
   "outputs": [],
   "source": [
    "def schoolType(name):\n",
    "        result = session.query(School_shooting.State, School_shooting.School_Name, School_shooting.School_Type).all()\n",
    "        df2 = pd.DataFrame(result)\n",
    "        df2 = df2.dropna()\n",
    "        df2['State'] = [i.strip() for i in df2['State']]\n",
    "        mask = df2['State'] == name\n",
    "        df = df2[mask]\n",
    "        count = df.groupby(['School_Type']).agg({\"School_Name\": \"count\"})\n",
    "        count = count.reset_index()\n",
    "        schoolType =list(df['School_Type'].unique())\n",
    "        School_list = []\n",
    "        for types in schoolType:\n",
    "            mask = df[\"School_Type\"] == types\n",
    "            School_list.append(list(df[mask]['School_Name']))\n",
    "            \n",
    "        ticks = dict(zip(schoolType, School_list))\n",
    "        return ticks"
   ]
  },
  {
   "cell_type": "code",
   "execution_count": null,
   "metadata": {},
   "outputs": [],
   "source": [
    "def State_schoolType(stateName):\n",
    "    \n",
    "    result = session.query(School_shooting.State, School_shooting.School_Name, School_shooting.School_Type).all()\n",
    "    df2 = pd.DataFrame(result)\n",
    "    df2 = df2.dropna()\n",
    "    df2['State'] = [i.strip() for i in df2['State']]    \n",
    "    statelst = list(df2['State'].unique())\n",
    "    statelst.sort()\n",
    "    stateDict = {}\n",
    "    for name in statelst:\n",
    "        stateDict[name] = schoolType(name)\n",
    "    \n",
    "\n",
    "    return stateDict[f\"{stateName}\"]\n"
   ]
  },
  {
   "cell_type": "code",
   "execution_count": null,
   "metadata": {},
   "outputs": [],
   "source": [
    "State_schoolType(PA)"
   ]
  },
  {
   "cell_type": "code",
   "execution_count": null,
   "metadata": {},
   "outputs": [],
   "source": [
    "name = 'PA'\n",
    "print(f\"{name}\")"
   ]
  },
  {
   "cell_type": "markdown",
   "metadata": {
    "collapsed": true
   },
   "source": [
    "## table 1 end point"
   ]
  },
  {
   "cell_type": "code",
   "execution_count": 29,
   "metadata": {},
   "outputs": [],
   "source": [
    "import pandas as pd\n",
    "def dictTranform(dict_list):\n",
    "    df = pd.DataFrame(dict_list)\n",
    "    names = list(df.columns)\n",
    "    Outerlst = []\n",
    "    for i in range(len(df)):\n",
    "        innerList = []\n",
    "        for j in range(len(names)):\n",
    "            innerList.append(df.loc[i, names[j]])\n",
    "        Outerlst.append(dict(zip(names, innerList)))\n",
    "    return Outerlst"
   ]
  },
  {
   "cell_type": "code",
   "execution_count": 30,
   "metadata": {},
   "outputs": [],
   "source": [
    "def schoolType(name):\n",
    "        result = session.query(School_shooting.State, School_shooting.School_Name, School_shooting.School_Type).all()\n",
    "        df2 = pd.DataFrame(result)\n",
    "        df2 = df2.dropna()\n",
    "        df2['State'] = [i.strip() for i in df2['State']]\n",
    "        mask = df2['State'] == name\n",
    "        df = df2[mask]\n",
    "        count = df.groupby(['School_Type']).agg({\"School_Name\": \"count\"})\n",
    "        count = count.reset_index()\n",
    "        schoolType =list(df['School_Type'].unique())\n",
    "        School_list = []\n",
    "        for types in schoolType:\n",
    "            mask = df[\"School_Type\"] == types\n",
    "            School_list.append(list(df[mask]['School_Name']))\n",
    "            \n",
    "        ticks = dict(zip(schoolType, School_list))\n",
    "        return ticks\n"
   ]
  },
  {
   "cell_type": "code",
   "execution_count": 31,
   "metadata": {},
   "outputs": [],
   "source": [
    "result = session.query(School_shooting.State, School_shooting.School_Name, School_shooting.School_Type).all()\n",
    "df2 = pd.DataFrame(result)\n",
    "df2 = df2.dropna()\n",
    "df2['State'] = [i.strip() for i in df2['State']]    \n",
    "statelst = list(df2['State'].unique())\n",
    "statelst.sort()\n",
    "stateDict = {}\n",
    "for name in statelst:\n",
    "    stateDict[name] = schoolType(name)\n",
    "target = stateDict['FL']\n",
    "\n"
   ]
  },
  {
   "cell_type": "code",
   "execution_count": 32,
   "metadata": {},
   "outputs": [],
   "source": [
    "keylength = []\n",
    "length = []\n",
    "for key, val in target.items():\n",
    "    keylength.append(key) \n",
    "    length.append(len(val))\n",
    "length.index(max(length))\n",
    "for key, val in target.items():\n",
    "    if len(val) != max(length):\n",
    "        target[key] = target[key] + [\"-\" for i in range(max(length)-len(val))]"
   ]
  },
  {
   "cell_type": "code",
   "execution_count": 33,
   "metadata": {
    "scrolled": true
   },
   "outputs": [
    {
     "data": {
      "text/plain": [
       "[{'Preschool': 'Apostolic Revival Center Christian School',\n",
       "  'College or University': 'University of Central Florida',\n",
       "  'Elementary School': 'Agape Christian Academy',\n",
       "  'High School': 'West Orange High School',\n",
       "  'K-12 School': 'North Broward Preparatory School'},\n",
       " {'Preschool': 'The Academy of Knowledge Preschool',\n",
       "  'College or University': 'Eastern Florida State College',\n",
       "  'Elementary School': 'Franklin County Elementary School',\n",
       "  'High School': 'Miami Carol City High School',\n",
       "  'K-12 School': '-'},\n",
       " {'Preschool': 'Everglades City School',\n",
       "  'College or University': 'Florida State University',\n",
       "  'Elementary School': 'Oscar Patterson Elementary School',\n",
       "  'High School': 'Vanguard High School',\n",
       "  'K-12 School': '-'},\n",
       " {'Preschool': '-',\n",
       "  'College or University': 'Bethune-Cookman University',\n",
       "  'Elementary School': 'Rock Crusher Elementary School',\n",
       "  'High School': 'Marjory Stoneman Douglas High School',\n",
       "  'K-12 School': '-'},\n",
       " {'Preschool': '-',\n",
       "  'College or University': 'University of West Florida',\n",
       "  'Elementary School': 'Greenwood Lakes Middle School',\n",
       "  'High School': 'Forest High School',\n",
       "  'K-12 School': '-'},\n",
       " {'Preschool': '-',\n",
       "  'College or University': 'University of South Florida',\n",
       "  'Elementary School': 'Apostolic Revival Center Christian School',\n",
       "  'High School': 'Lecanto High School',\n",
       "  'K-12 School': '-'},\n",
       " {'Preschool': '-',\n",
       "  'College or University': 'University of Florida',\n",
       "  'Elementary School': '-',\n",
       "  'High School': 'Alexander W. Dreyfoos School of the Arts',\n",
       "  'K-12 School': '-'},\n",
       " {'Preschool': '-',\n",
       "  'College or University': 'University of Miami',\n",
       "  'Elementary School': '-',\n",
       "  'High School': '-',\n",
       "  'K-12 School': '-'}]"
      ]
     },
     "execution_count": 33,
     "metadata": {},
     "output_type": "execute_result"
    }
   ],
   "source": [
    "final = dictTranform(target)\n",
    "final"
   ]
  },
  {
   "cell_type": "code",
   "execution_count": 34,
   "metadata": {},
   "outputs": [
    {
     "data": {
      "text/plain": [
       "{'Preschool': ['Apostolic Revival Center Christian School',\n",
       "  'The Academy of Knowledge Preschool',\n",
       "  'Everglades City School',\n",
       "  '-',\n",
       "  '-',\n",
       "  '-',\n",
       "  '-',\n",
       "  '-'],\n",
       " 'College or University': ['University of Central Florida',\n",
       "  'Eastern Florida State College',\n",
       "  'Florida State University',\n",
       "  'Bethune-Cookman University',\n",
       "  'University of West Florida',\n",
       "  'University of South Florida',\n",
       "  'University of Florida',\n",
       "  'University of Miami'],\n",
       " 'Elementary School': ['Agape Christian Academy',\n",
       "  'Franklin County Elementary School',\n",
       "  'Oscar Patterson Elementary School',\n",
       "  'Rock Crusher Elementary School',\n",
       "  'Greenwood Lakes Middle School',\n",
       "  'Apostolic Revival Center Christian School',\n",
       "  '-',\n",
       "  '-'],\n",
       " 'High School': ['West Orange High School',\n",
       "  'Miami Carol City High School',\n",
       "  'Vanguard High School',\n",
       "  'Marjory Stoneman Douglas High School',\n",
       "  'Forest High School',\n",
       "  'Lecanto High School',\n",
       "  'Alexander W. Dreyfoos School of the Arts',\n",
       "  '-'],\n",
       " 'K-12 School': ['North Broward Preparatory School',\n",
       "  '-',\n",
       "  '-',\n",
       "  '-',\n",
       "  '-',\n",
       "  '-',\n",
       "  '-',\n",
       "  '-']}"
      ]
     },
     "execution_count": 34,
     "metadata": {},
     "output_type": "execute_result"
    }
   ],
   "source": [
    "target"
   ]
  },
  {
   "cell_type": "markdown",
   "metadata": {},
   "source": [
    "# endpooint for table"
   ]
  },
  {
   "cell_type": "code",
   "execution_count": null,
   "metadata": {},
   "outputs": [],
   "source": [
    "import pandas as pd\n",
    "def getData():\n",
    "    result = session.query(School_shooting.Date, School_shooting.Location, School_shooting.State, School_shooting.Latitude, \n",
    "                       School_shooting.Longitude, School_shooting.School_Name, School_shooting.Death,\n",
    "                      School_shooting.Injuries, School_shooting.School_Type).all()\n",
    "    df2 = pd.DataFrame(result)\n",
    "    df2['Date'] = pd.to_datetime(df2['Date'])\n",
    "    df2['Date'] = [str(i).split(' ')[0] for i in df2['Date']]\n",
    "    comboLst = list(zip(df2['Death'][130:], df2[\"Injuries\"][130:]))\n",
    "    Death = []\n",
    "    Injury = []\n",
    "    for j in comboLst:\n",
    "        if j[0] == 0 and j[1] == 0:\n",
    "            Death.append(\"-\")\n",
    "            Injury.append(\"-\")\n",
    "        else:\n",
    "            Death.append(j[0])\n",
    "            Injury.append(j[1])\n",
    "    df2['Death'] = list(df2['Death'][0:130]) + Death\n",
    "    df2['State'] = [i.split()[0] for i in df2['State']]\n",
    "    df2['Injuries'] = list(df2['Injuries'][0:130]) + Injury\n",
    "    df2['Location'] = [i.upper() for i in df2['Location']] \n",
    "    Stype = []\n",
    "    for i in df2['School_Type']:\n",
    "        if i == None :\n",
    "            Stype.append(\"-\")\n",
    "        else:\n",
    "            Stype.append(i.upper().strip())\n",
    "\n",
    "    df2['School_Type'] = Stype\n",
    "    name = []\n",
    "    for i in df2['School_Name']:\n",
    "        if i == None :\n",
    "            name.append(\"-\")\n",
    "        else:\n",
    "            name.append(i.upper().strip())\n",
    "\n",
    "    df2['School_Name'] = name\n",
    "    \n",
    "    nulllist = []\n",
    "    for i in df2['School_Name']:\n",
    "        if i == None:\n",
    "            nulllist.append(\"-\")\n",
    "        else:\n",
    "            nulllist.append(i)\n",
    "    df2['School_Name'] = nulllist\n",
    "    names = list(df2.columns)\n",
    "    Outerlst = []\n",
    "    for i in range(len(df2)):\n",
    "        innerList = []\n",
    "        for j in range(len(names)):\n",
    "            innerList.append(df2.loc[i, names[j]])\n",
    "        Outerlst.append(dict(zip(names, innerList)))\n",
    "    \n",
    "    return Outerlst"
   ]
  },
  {
   "cell_type": "code",
   "execution_count": null,
   "metadata": {},
   "outputs": [],
   "source": [
    "getData()"
   ]
  },
  {
   "cell_type": "code",
   "execution_count": null,
   "metadata": {},
   "outputs": [],
   "source": [
    "df2['School_Type'].isnull().unique()"
   ]
  },
  {
   "cell_type": "code",
   "execution_count": null,
   "metadata": {},
   "outputs": [],
   "source": [
    "name = []\n",
    "for i in df2['School_Name']:\n",
    "    if i == None :\n",
    "        name.append(\"-\")\n",
    "    else:\n",
    "        name.append(i.upper().strip())\n",
    "    \n",
    "df2['School_Name'] = name"
   ]
  },
  {
   "cell_type": "code",
   "execution_count": null,
   "metadata": {},
   "outputs": [],
   "source": [
    "df2['School_Name']"
   ]
  },
  {
   "cell_type": "code",
   "execution_count": null,
   "metadata": {},
   "outputs": [],
   "source": [
    "str(type(None))"
   ]
  },
  {
   "cell_type": "code",
   "execution_count": null,
   "metadata": {},
   "outputs": [],
   "source": [
    "for i in df2['School_Name']:\n",
    "    if i is not None:\n",
    "        print(i)\n"
   ]
  },
  {
   "cell_type": "code",
   "execution_count": null,
   "metadata": {},
   "outputs": [],
   "source": []
  }
 ],
 "metadata": {
  "kernelspec": {
   "display_name": "Python [conda env:anaconda3]",
   "language": "python",
   "name": "conda-env-anaconda3-py"
  },
  "language_info": {
   "codemirror_mode": {
    "name": "ipython",
    "version": 3
   },
   "file_extension": ".py",
   "mimetype": "text/x-python",
   "name": "python",
   "nbconvert_exporter": "python",
   "pygments_lexer": "ipython3",
   "version": "3.6.5"
  }
 },
 "nbformat": 4,
 "nbformat_minor": 2
}
