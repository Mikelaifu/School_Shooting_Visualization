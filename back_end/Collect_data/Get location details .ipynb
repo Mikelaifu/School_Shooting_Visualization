{
 "cells": [
  {
   "cell_type": "code",
   "execution_count": 16,
   "metadata": {
    "collapsed": true
   },
   "outputs": [],
   "source": [
    "from pprint import pprint \n",
    "import requests\n",
    "import pandas as pd\n",
    "import time"
   ]
  },
  {
   "cell_type": "code",
   "execution_count": 70,
   "metadata": {
    "scrolled": true
   },
   "outputs": [
    {
     "data": {
      "text/plain": [
       "190           Florence, SC\n",
       "191            Chicago, IL\n",
       "192         Fort Wayne, IN\n",
       "193         Greensboro, AL\n",
       "194         Kirbyville, TX\n",
       "195         Moss Bluff, LA\n",
       "196             Irving, TX\n",
       "197               Orem, UT\n",
       "198              Tulsa, OK\n",
       "199           St. Paul, MN\n",
       "200          Pensacola, FL\n",
       "201            Gaffney, SC\n",
       "202        Wilberforce, OH\n",
       "203      Scotlandville, LA\n",
       "204              Aiken, SC\n",
       "205          Manhattan, KS\n",
       "206          Eastpoint, FL\n",
       "207     Alexander City, AL\n",
       "208            Lebanon, OH\n",
       "209     Salt Lake City, UT\n",
       "210          St. Louis, MO\n",
       "211           St. Paul, MN\n",
       "212             Auburn, MI\n",
       "213           Berthoud, CO\n",
       "214     Grand Junction, CO\n",
       "215         Huntsville, AL\n",
       "216          Caledonia, MI\n",
       "217         Fort Worth, TX\n",
       "218       Stephenville, TX\n",
       "219             Alpine, TX\n",
       "              ...         \n",
       "307          Milwaukee, WI\n",
       "308           Griffith, IN\n",
       "309              Provo, UT\n",
       "310     Council Bluffs, IA\n",
       "311               Kent, OH\n",
       "312           Savannah, GA\n",
       "313             Newark, DE\n",
       "314            Oshkosh, WI\n",
       "315           Tallulah, LA\n",
       "316        Westminster, MD\n",
       "317            Raytown, MO\n",
       "318               Bend, OR\n",
       "319          Lancaster, PA\n",
       "320         Rapid City, SD\n",
       "321             Algona, IA\n",
       "322             Austin, TX\n",
       "323               Gray, ME\n",
       "324           Savannah, GA\n",
       "325            Memphis, TN\n",
       "326        Clarksville, TN\n",
       "327    West Palm Beach, FL\n",
       "328        Hattiesburg, MS\n",
       "329         Cincinnati, OH\n",
       "330          Grambling, LA\n",
       "331     Elizabeth City, NC\n",
       "332          Southgate, MI\n",
       "333            Atlanta, GA\n",
       "334        San Leandro, CA\n",
       "335            Altanta, GA\n",
       "336         Fort Myers, FL\n",
       "Name: Loc_address, Length: 147, dtype: object"
      ]
     },
     "execution_count": 70,
     "metadata": {},
     "output_type": "execute_result"
    }
   ],
   "source": [
    "df = pd.read_csv('school_shooting.csv')\n",
    "\n",
    "df['Loc_address'] = df[\"Location\"]+ \",\" + df[\"State\"]\n",
    "df['Loc_address'][190:]"
   ]
  },
  {
   "cell_type": "code",
   "execution_count": 71,
   "metadata": {},
   "outputs": [],
   "source": [
    "def findLngLat(location):\n",
    "        from geopy.geocoders import Nominatim\n",
    "        geolocator = Nominatim()\n",
    "        location = geolocator.geocode(location)\n",
    "\n",
    "        return(location.latitude, location.longitude)"
   ]
  },
  {
   "cell_type": "code",
   "execution_count": 73,
   "metadata": {
    "scrolled": true
   },
   "outputs": [
    {
     "name": "stdout",
     "output_type": "stream",
     "text": [
      "(41.8755546, -87.6244212)\n",
      "(41.0799898, -85.1386015)\n",
      "(32.7045753, -87.5958396)\n",
      "(30.6604815, -93.8926809)\n",
      "(30.3027042, -93.1907097)\n",
      "(32.8295183, -96.9442177)\n",
      "(40.2971825, -111.694943)\n",
      "(36.1556805, -95.9929113)\n",
      "(44.9504037, -93.1015026)\n",
      "(30.421309, -87.2169149)\n",
      "(35.0717945, -81.6498195)\n",
      "(39.7173, -83.8854792575566)\n",
      "(30.5204668, -91.1787186)\n",
      "(33.5598586, -81.721952)\n",
      "(39.1836082, -96.5716694)\n",
      "(29.736601, -84.8785185)\n",
      "(32.944012, -85.9538532)\n",
      "(39.4353373, -84.2029922)\n",
      "(40.7670126, -111.8904308)\n",
      "(38.6272733, -90.1978889)\n",
      "(44.9504037, -93.1015026)\n",
      "(43.603358, -84.069705)\n",
      "(40.3083174, -105.0810924)\n",
      "(39.063956, -108.5507317)\n",
      "(34.729847, -86.5859011)\n",
      "(42.7891193, -85.5163391)\n",
      "(32.753177, -97.3327459)\n",
      "(32.2207307, -98.2026165)\n",
      "(30.3573802, -103.6609367)\n",
      "(36.1556805, -95.9929113)\n",
      "(34.6580327, -88.5666451)\n",
      "(36.951999, -92.6604457)\n",
      "(32.7762719, -96.7968559)\n",
      "(38.1040864, -122.2566367)\n",
      "(38.951883, -92.3337366)\n",
      "(37.6913769, -96.9707179)\n",
      "(34.851354, -82.3984882)\n",
      "(40.6914852, -73.8056771)\n",
      "(30.1600827, -85.6545729)\n",
      "(38.951883, -92.3337366)\n",
      "(42.5704219, -114.4603171)\n",
      "(39.0299081, -76.9149547)\n",
      "(32.7762719, -96.7968559)\n",
      "(38.3505995, -81.6332812)\n",
      "(32.4240286, -85.6916195)\n",
      "(39.1836082, -96.5716694)\n",
      "(47.2495798, -122.4398746)\n",
      "(35.2270869, -80.8431268)\n",
      "(33.7490987, -84.3901849)\n",
      "(33.5206824, -86.8024326)\n",
      "(31.7621153, -95.6307891)\n",
      "(28.7813722, -82.6151001)\n",
      "(39.7683331, -86.1583502)\n",
      "(33.5845582, -92.8343294)\n",
      "(39.158168, -75.5243682)\n",
      "(40.4233142, -104.7091322)\n",
      "(35.6144446, -88.8177418)\n",
      "(39.9622601, -83.0007065)\n",
      "(35.751188, -91.5006905)\n",
      "(28.8516486, -82.4875982)\n",
      "(31.1811523, -83.7878809)\n",
      "(35.9966551, -78.9018115)\n",
      "(29.4246002, -98.4951405)\n",
      "(35.9450505, -97.2553142)\n",
      "(29.4246002, -98.4951405)\n",
      "(27.9477595, -82.458444)\n",
      "(29.7589382, -95.3676974)\n",
      "(38.6558849, -90.3092813)\n",
      "(46.0131505, -112.5365089)\n",
      "(35.7826363, -80.8872959)\n",
      "(30.2240897, -92.0198427)\n",
      "(29.7589382, -95.3676974)\n",
      "(33.4709714, -81.9748429)\n",
      "(29.5821811, -95.7607832)\n",
      "(33.150118, -97.6872521)\n",
      "(37.6922361, -97.3375448)\n",
      "(29.6519396, -82.3249961)\n",
      "(29.5180081, -98.3161241)\n",
      "(32.7762719, -96.7968559)\n",
      "(41.4558282, -96.0264024)\n",
      "(36.1028596, -78.2787229)\n",
      "(25.8601002, -81.380357)\n",
      "(31.4676687, -97.1147226)\n",
      "(33.6676103, -84.0176904)\n",
      "(40.2971825, -111.694943)\n",
      "(41.5051613, -81.6934446)\n",
      "(36.1662859, -115.149225)\n",
      "(35.2270869, -80.8431268)\n",
      "(39.158168, -75.5243682)\n",
      "(29.5688411, -97.9647269)\n",
      "(47.9673056, -122.2013998)\n",
      "(40.6872885, -80.2714505)\n",
      "(35.6144446, -88.8177418)\n",
      "(34.7464809, -92.2895948)\n",
      "(33.9550905, -83.3881868)\n",
      "(37.3029568, -120.4843269)\n",
      "(34.0007493, -81.0343313)\n",
      "(44.1634663, -93.9993505)\n",
      "(45.0060767, -93.1566107)\n",
      "(32.2802665, -81.0726108)\n",
      "(44.5520105, -69.6317121)\n",
      "(40.4416941, -79.9900861)\n",
      "(38.9786401, -76.492786)\n",
      "(35.1490215, -90.0516285)\n",
      "(35.9450505, -97.2553142)\n",
      "(36.1622296, -86.7743531)\n",
      "(36.2956836, -76.2247697)\n",
      "(28.756618, -81.3388838221417)\n",
      "(32.0835407, -81.0998342)\n",
      "(42.8688613, -112.4401098)\n",
      "(36.9786449, -76.4321089)\n",
      "(39.343, -77.51)\n",
      "(25.7742658, -80.1936589)\n",
      "(38.2930723, -93.3036786)\n",
      "(43.0349931, -87.922497)\n",
      "(47.9673056, -122.2013998)\n",
      "(43.0349931, -87.922497)\n",
      "(41.534507, -87.4255305)\n",
      "(40.2338438, -111.6585337)\n",
      "(41.2621283, -95.8613912)\n",
      "(41.1536674, -81.357886)\n",
      "(32.0835407, -81.0998342)\n",
      "(39.6852191, -75.7508289)\n",
      "(44.0206919, -88.5408574)\n",
      "(32.4084765, -91.1867771)\n",
      "(39.5752639, -76.9959277)\n",
      "(39.0086171, -94.4635638)\n",
      "(44.0581728, -121.3153096)\n",
      "(40.03813, -76.3056686)\n",
      "(44.081176, -103.228006)\n",
      "(43.0699663, -94.233019)\n",
      "(30.2711286, -97.7436995)\n",
      "(43.886016, -70.331726)\n",
      "(32.0835407, -81.0998342)\n",
      "(35.1490215, -90.0516285)\n",
      "(36.5277607, -87.3588703)\n",
      "(26.7153425, -80.0533746)\n",
      "(31.3271189, -89.2903392)\n",
      "(39.1014537, -84.5124602)\n",
      "(32.5276503, -92.7140403)\n",
      "(36.2956836, -76.2247697)\n",
      "(42.20611635, -83.2046086601821)\n",
      "(33.7490987, -84.3901849)\n",
      "(37.7249296, -122.1560768)\n"
     ]
    },
    {
     "ename": "AttributeError",
     "evalue": "'NoneType' object has no attribute 'latitude'",
     "output_type": "error",
     "traceback": [
      "\u001b[0;31m---------------------------------------------------------------------------\u001b[0m",
      "\u001b[0;31mAttributeError\u001b[0m                            Traceback (most recent call last)",
      "\u001b[0;32m<ipython-input-73-48420cafe609>\u001b[0m in \u001b[0;36m<module>\u001b[0;34m()\u001b[0m\n\u001b[1;32m      2\u001b[0m \u001b[0;32mfor\u001b[0m \u001b[0mlocation\u001b[0m \u001b[0;32min\u001b[0m \u001b[0mdf\u001b[0m\u001b[0;34m[\u001b[0m\u001b[0;34m'Loc_address'\u001b[0m\u001b[0;34m]\u001b[0m\u001b[0;34m[\u001b[0m\u001b[0;36m191\u001b[0m\u001b[0;34m:\u001b[0m\u001b[0;34m]\u001b[0m \u001b[0;34m:\u001b[0m\u001b[0;34m\u001b[0m\u001b[0m\n\u001b[1;32m      3\u001b[0m \u001b[0;34m\u001b[0m\u001b[0m\n\u001b[0;32m----> 4\u001b[0;31m     \u001b[0mlat_long\u001b[0m\u001b[0;34m.\u001b[0m\u001b[0mappend\u001b[0m\u001b[0;34m(\u001b[0m\u001b[0mfindLngLat\u001b[0m\u001b[0;34m(\u001b[0m\u001b[0mlocation\u001b[0m\u001b[0;34m)\u001b[0m\u001b[0;34m)\u001b[0m\u001b[0;34m\u001b[0m\u001b[0m\n\u001b[0m\u001b[1;32m      5\u001b[0m     \u001b[0mprint\u001b[0m\u001b[0;34m(\u001b[0m\u001b[0mfindLngLat\u001b[0m\u001b[0;34m(\u001b[0m\u001b[0mlocation\u001b[0m\u001b[0;34m)\u001b[0m\u001b[0;34m)\u001b[0m\u001b[0;34m\u001b[0m\u001b[0m\n\u001b[1;32m      6\u001b[0m     \u001b[0mtime\u001b[0m\u001b[0;34m.\u001b[0m\u001b[0msleep\u001b[0m\u001b[0;34m(\u001b[0m\u001b[0;36m4\u001b[0m\u001b[0;34m)\u001b[0m\u001b[0;34m\u001b[0m\u001b[0m\n",
      "\u001b[0;32m<ipython-input-71-3e94f60f5f3b>\u001b[0m in \u001b[0;36mfindLngLat\u001b[0;34m(location)\u001b[0m\n\u001b[1;32m      4\u001b[0m         \u001b[0mlocation\u001b[0m \u001b[0;34m=\u001b[0m \u001b[0mgeolocator\u001b[0m\u001b[0;34m.\u001b[0m\u001b[0mgeocode\u001b[0m\u001b[0;34m(\u001b[0m\u001b[0mlocation\u001b[0m\u001b[0;34m)\u001b[0m\u001b[0;34m\u001b[0m\u001b[0m\n\u001b[1;32m      5\u001b[0m \u001b[0;34m\u001b[0m\u001b[0m\n\u001b[0;32m----> 6\u001b[0;31m         \u001b[0;32mreturn\u001b[0m\u001b[0;34m(\u001b[0m\u001b[0mlocation\u001b[0m\u001b[0;34m.\u001b[0m\u001b[0mlatitude\u001b[0m\u001b[0;34m,\u001b[0m \u001b[0mlocation\u001b[0m\u001b[0;34m.\u001b[0m\u001b[0mlongitude\u001b[0m\u001b[0;34m)\u001b[0m\u001b[0;34m\u001b[0m\u001b[0m\n\u001b[0m",
      "\u001b[0;31mAttributeError\u001b[0m: 'NoneType' object has no attribute 'latitude'"
     ]
    }
   ],
   "source": [
    "lat_long = []\n",
    "for location in df['Loc_address'][191:] :\n",
    "    \n",
    "    lat_long.append(findLngLat(location))\n",
    "    print(findLngLat(location))\n",
    "    time.sleep(4)\n",
    "\n"
   ]
  },
  {
   "cell_type": "code",
   "execution_count": 77,
   "metadata": {},
   "outputs": [],
   "source": [
    "# len(lat_long)\n",
    "latlng = pd.DataFrame(lat_long)\n",
    "latlng.to_csv(\"lat_log.csv\")\n"
   ]
  },
  {
   "cell_type": "code",
   "execution_count": null,
   "metadata": {
    "collapsed": true
   },
   "outputs": [],
   "source": []
  },
  {
   "cell_type": "code",
   "execution_count": null,
   "metadata": {
    "collapsed": true
   },
   "outputs": [],
   "source": []
  },
  {
   "cell_type": "code",
   "execution_count": null,
   "metadata": {
    "collapsed": true
   },
   "outputs": [],
   "source": []
  },
  {
   "cell_type": "code",
   "execution_count": null,
   "metadata": {
    "collapsed": true
   },
   "outputs": [],
   "source": []
  },
  {
   "cell_type": "code",
   "execution_count": null,
   "metadata": {
    "collapsed": true
   },
   "outputs": [],
   "source": []
  },
  {
   "cell_type": "code",
   "execution_count": null,
   "metadata": {
    "collapsed": true
   },
   "outputs": [],
   "source": []
  },
  {
   "cell_type": "code",
   "execution_count": null,
   "metadata": {
    "collapsed": true
   },
   "outputs": [],
   "source": []
  },
  {
   "cell_type": "code",
   "execution_count": null,
   "metadata": {
    "collapsed": true
   },
   "outputs": [],
   "source": []
  },
  {
   "cell_type": "code",
   "execution_count": null,
   "metadata": {
    "collapsed": true
   },
   "outputs": [],
   "source": []
  },
  {
   "cell_type": "code",
   "execution_count": null,
   "metadata": {
    "collapsed": true
   },
   "outputs": [],
   "source": []
  },
  {
   "cell_type": "code",
   "execution_count": null,
   "metadata": {
    "collapsed": true
   },
   "outputs": [],
   "source": []
  },
  {
   "cell_type": "code",
   "execution_count": null,
   "metadata": {
    "collapsed": true
   },
   "outputs": [],
   "source": []
  },
  {
   "cell_type": "code",
   "execution_count": null,
   "metadata": {
    "collapsed": true
   },
   "outputs": [],
   "source": []
  },
  {
   "cell_type": "code",
   "execution_count": null,
   "metadata": {
    "collapsed": true
   },
   "outputs": [],
   "source": []
  },
  {
   "cell_type": "code",
   "execution_count": null,
   "metadata": {
    "collapsed": true
   },
   "outputs": [],
   "source": []
  },
  {
   "cell_type": "code",
   "execution_count": null,
   "metadata": {
    "collapsed": true
   },
   "outputs": [],
   "source": []
  },
  {
   "cell_type": "code",
   "execution_count": null,
   "metadata": {
    "collapsed": true
   },
   "outputs": [],
   "source": []
  },
  {
   "cell_type": "code",
   "execution_count": null,
   "metadata": {
    "collapsed": true
   },
   "outputs": [],
   "source": []
  },
  {
   "cell_type": "code",
   "execution_count": null,
   "metadata": {
    "collapsed": true
   },
   "outputs": [],
   "source": []
  },
  {
   "cell_type": "code",
   "execution_count": null,
   "metadata": {
    "collapsed": true
   },
   "outputs": [],
   "source": []
  }
 ],
 "metadata": {
  "kernelspec": {
   "display_name": "Python [conda env:anaconda3]",
   "language": "python",
   "name": "conda-env-anaconda3-py"
  },
  "language_info": {
   "codemirror_mode": {
    "name": "ipython",
    "version": 3
   },
   "file_extension": ".py",
   "mimetype": "text/x-python",
   "name": "python",
   "nbconvert_exporter": "python",
   "pygments_lexer": "ipython3",
   "version": "3.6.4"
  }
 },
 "nbformat": 4,
 "nbformat_minor": 2
}
